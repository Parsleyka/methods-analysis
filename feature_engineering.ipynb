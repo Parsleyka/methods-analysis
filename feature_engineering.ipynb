{
 "cells": [
  {
   "cell_type": "code",
   "outputs": [],
   "source": [
    "import pandas as pd\n",
    "import numpy as np\n",
    "\n",
    "import warnings\n",
    "warnings.simplefilter(\"ignore\")"
   ],
   "metadata": {
    "collapsed": false,
    "ExecuteTime": {
     "end_time": "2024-02-01T14:44:02.794240Z",
     "start_time": "2024-02-01T14:44:02.787361100Z"
    }
   },
   "id": "b1b13f1980633d4c",
   "execution_count": 2
  },
  {
   "cell_type": "code",
   "outputs": [],
   "source": [
    "main_data = pd.read_csv('data/prepared_data.csv')"
   ],
   "metadata": {
    "collapsed": false,
    "ExecuteTime": {
     "end_time": "2024-01-28T14:53:35.601887600Z",
     "start_time": "2024-01-28T14:53:35.281781100Z"
    }
   },
   "id": "fb840b5475eb38a3",
   "execution_count": 2
  },
  {
   "cell_type": "code",
   "outputs": [],
   "source": [
    "main_data = main_data.drop(columns=['Unnamed: 0'], axis=1)"
   ],
   "metadata": {
    "collapsed": false,
    "ExecuteTime": {
     "end_time": "2024-01-28T14:53:35.612082800Z",
     "start_time": "2024-01-28T14:53:35.588095800Z"
    }
   },
   "id": "a14919dff50db714",
   "execution_count": 3
  },
  {
   "cell_type": "code",
   "outputs": [
    {
     "data": {
      "text/plain": "                week      center_id        meal_id  checkout_price  \\\ncount  521565.000000  521565.000000  521565.000000   521565.000000   \nmean       73.000000      82.313595    2030.017793      342.247748   \nstd        41.856939      45.873564     547.374132      154.093264   \nmin         1.000000      10.000000    1062.000000        2.970000   \n25%        37.000000      43.000000    1558.000000      240.620000   \n50%        73.000000      76.000000    1993.000000      308.490000   \n75%       109.000000     110.000000    2539.000000      447.230000   \nmax       145.000000     186.000000    2956.000000      866.270000   \n\n          base_price  emailer_for_promotion  homepage_featured     num_orders  \\\ncount  521565.000000          521565.000000      521565.000000  521565.000000   \nmean      364.508958               0.071036           0.095587     229.228351   \nstd       161.800386               0.256886           0.294025     380.390839   \nmin        55.350000               0.000000           0.000000       0.000000   \n25%       249.320000               0.000000           0.000000      28.000000   \n50%       319.130000               0.000000           0.000000     108.000000   \n75%       478.326000               0.000000           0.000000     284.000000   \nmax       866.270000               1.000000           1.000000   24299.000000   \n\n           city_code    region_code        op_area  \ncount  521565.000000  521565.000000  521565.000000  \nmean      601.531554      56.621907       4.023186  \nstd        66.142150      17.740476       1.106864  \nmin       456.000000      23.000000       0.900000  \n25%       553.000000      34.000000       3.500000  \n50%       596.000000      56.000000       4.000000  \n75%       651.000000      77.000000       4.500000  \nmax       713.000000      93.000000       7.000000  ",
      "text/html": "<div>\n<style scoped>\n    .dataframe tbody tr th:only-of-type {\n        vertical-align: middle;\n    }\n\n    .dataframe tbody tr th {\n        vertical-align: top;\n    }\n\n    .dataframe thead th {\n        text-align: right;\n    }\n</style>\n<table border=\"1\" class=\"dataframe\">\n  <thead>\n    <tr style=\"text-align: right;\">\n      <th></th>\n      <th>week</th>\n      <th>center_id</th>\n      <th>meal_id</th>\n      <th>checkout_price</th>\n      <th>base_price</th>\n      <th>emailer_for_promotion</th>\n      <th>homepage_featured</th>\n      <th>num_orders</th>\n      <th>city_code</th>\n      <th>region_code</th>\n      <th>op_area</th>\n    </tr>\n  </thead>\n  <tbody>\n    <tr>\n      <th>count</th>\n      <td>521565.000000</td>\n      <td>521565.000000</td>\n      <td>521565.000000</td>\n      <td>521565.000000</td>\n      <td>521565.000000</td>\n      <td>521565.000000</td>\n      <td>521565.000000</td>\n      <td>521565.000000</td>\n      <td>521565.000000</td>\n      <td>521565.000000</td>\n      <td>521565.000000</td>\n    </tr>\n    <tr>\n      <th>mean</th>\n      <td>73.000000</td>\n      <td>82.313595</td>\n      <td>2030.017793</td>\n      <td>342.247748</td>\n      <td>364.508958</td>\n      <td>0.071036</td>\n      <td>0.095587</td>\n      <td>229.228351</td>\n      <td>601.531554</td>\n      <td>56.621907</td>\n      <td>4.023186</td>\n    </tr>\n    <tr>\n      <th>std</th>\n      <td>41.856939</td>\n      <td>45.873564</td>\n      <td>547.374132</td>\n      <td>154.093264</td>\n      <td>161.800386</td>\n      <td>0.256886</td>\n      <td>0.294025</td>\n      <td>380.390839</td>\n      <td>66.142150</td>\n      <td>17.740476</td>\n      <td>1.106864</td>\n    </tr>\n    <tr>\n      <th>min</th>\n      <td>1.000000</td>\n      <td>10.000000</td>\n      <td>1062.000000</td>\n      <td>2.970000</td>\n      <td>55.350000</td>\n      <td>0.000000</td>\n      <td>0.000000</td>\n      <td>0.000000</td>\n      <td>456.000000</td>\n      <td>23.000000</td>\n      <td>0.900000</td>\n    </tr>\n    <tr>\n      <th>25%</th>\n      <td>37.000000</td>\n      <td>43.000000</td>\n      <td>1558.000000</td>\n      <td>240.620000</td>\n      <td>249.320000</td>\n      <td>0.000000</td>\n      <td>0.000000</td>\n      <td>28.000000</td>\n      <td>553.000000</td>\n      <td>34.000000</td>\n      <td>3.500000</td>\n    </tr>\n    <tr>\n      <th>50%</th>\n      <td>73.000000</td>\n      <td>76.000000</td>\n      <td>1993.000000</td>\n      <td>308.490000</td>\n      <td>319.130000</td>\n      <td>0.000000</td>\n      <td>0.000000</td>\n      <td>108.000000</td>\n      <td>596.000000</td>\n      <td>56.000000</td>\n      <td>4.000000</td>\n    </tr>\n    <tr>\n      <th>75%</th>\n      <td>109.000000</td>\n      <td>110.000000</td>\n      <td>2539.000000</td>\n      <td>447.230000</td>\n      <td>478.326000</td>\n      <td>0.000000</td>\n      <td>0.000000</td>\n      <td>284.000000</td>\n      <td>651.000000</td>\n      <td>77.000000</td>\n      <td>4.500000</td>\n    </tr>\n    <tr>\n      <th>max</th>\n      <td>145.000000</td>\n      <td>186.000000</td>\n      <td>2956.000000</td>\n      <td>866.270000</td>\n      <td>866.270000</td>\n      <td>1.000000</td>\n      <td>1.000000</td>\n      <td>24299.000000</td>\n      <td>713.000000</td>\n      <td>93.000000</td>\n      <td>7.000000</td>\n    </tr>\n  </tbody>\n</table>\n</div>"
     },
     "execution_count": 4,
     "metadata": {},
     "output_type": "execute_result"
    }
   ],
   "source": [
    "main_data.describe()"
   ],
   "metadata": {
    "collapsed": false,
    "ExecuteTime": {
     "end_time": "2024-01-28T14:53:35.690801800Z",
     "start_time": "2024-01-28T14:53:35.607590Z"
    }
   },
   "id": "241ef232771bdcb3",
   "execution_count": 4
  },
  {
   "cell_type": "code",
   "outputs": [],
   "source": [
    "# Taking log(1+x) of price and number of orders\n",
    "main_data['checkout_price'] = np.log1p(main_data['checkout_price'])\n",
    "main_data['base_price'] = np.log1p(main_data['base_price'])\n",
    "main_data['num_orders'] = np.log1p(main_data['num_orders'])"
   ],
   "metadata": {
    "collapsed": true,
    "ExecuteTime": {
     "end_time": "2024-01-28T14:53:35.706342600Z",
     "start_time": "2024-01-28T14:53:35.688708800Z"
    }
   },
   "id": "initial_id",
   "execution_count": 5
  },
  {
   "cell_type": "code",
   "outputs": [],
   "source": [
    "# what percentage the discount, delivery cost and tax on the base price i.e [(checkout price - base price) / (base price)] [captures the trend of the discounts, delivery chargers na dtaxes ]\n",
    "main_data['perc_diff']=((main_data['checkout_price']-main_data['base_price'])/(main_data['base_price'])*100)"
   ],
   "metadata": {
    "collapsed": false,
    "ExecuteTime": {
     "end_time": "2024-01-28T14:53:35.713252300Z",
     "start_time": "2024-01-28T14:53:35.707345700Z"
    }
   },
   "id": "216c9d3ca8b14aed",
   "execution_count": 6
  },
  {
   "cell_type": "code",
   "outputs": [
    {
     "name": "stdout",
     "output_type": "stream",
     "text": [
      "float64\n"
     ]
    }
   ],
   "source": [
    "print(main_data['checkout_price'].dtypes)"
   ],
   "metadata": {
    "collapsed": false,
    "ExecuteTime": {
     "end_time": "2024-01-28T14:53:35.732771800Z",
     "start_time": "2024-01-28T14:53:35.713252300Z"
    }
   },
   "id": "47921687547ef3ad",
   "execution_count": 7
  },
  {
   "cell_type": "code",
   "outputs": [
    {
     "name": "stdout",
     "output_type": "stream",
     "text": [
      "week                       int64\n",
      "center_id                  int64\n",
      "meal_id                    int64\n",
      "checkout_price           float64\n",
      "base_price               float64\n",
      "emailer_for_promotion      int64\n",
      "homepage_featured          int64\n",
      "num_orders               float64\n",
      "category                  object\n",
      "cuisine                   object\n",
      "city_code                  int64\n",
      "region_code                int64\n",
      "center_type               object\n",
      "op_area                  float64\n",
      "perc_diff                float64\n",
      "dtype: object\n"
     ]
    }
   ],
   "source": [
    "print(main_data.dtypes)"
   ],
   "metadata": {
    "collapsed": false,
    "ExecuteTime": {
     "end_time": "2024-01-28T14:53:35.732771800Z",
     "start_time": "2024-01-28T14:53:35.714794Z"
    }
   },
   "id": "9a32e6600319fd80",
   "execution_count": 8
  },
  {
   "cell_type": "code",
   "outputs": [],
   "source": [
    "def calculate_and_merge_avg(df, group_by_cols, agg_col):\n",
    "    avg_df = (\n",
    "        main_data.groupby(group_by_cols)[agg_col].mean()\n",
    "        .reset_index()\n",
    "        .rename(columns={agg_col: 'Average_price_per_{}'.format(group_by_cols[1])})\n",
    "    )\n",
    "    return df.merge(avg_df, how='outer', on=group_by_cols)\n",
    "\n",
    "agg_col = 'checkout_price'\n",
    "\n",
    "group_by_cols = ['week', 'city_code']\n",
    "merge1 = calculate_and_merge_avg(main_data, group_by_cols, agg_col)\n",
    "\n",
    "group_by_cols = ['week', 'center_id']\n",
    "merge2 = calculate_and_merge_avg(merge1, group_by_cols, agg_col)\n",
    "\n",
    "group_by_cols = ['week', 'category']\n",
    "merge3 = calculate_and_merge_avg(merge2, group_by_cols, agg_col)\n",
    "\n",
    "group_by_cols = ['week', 'cuisine']\n",
    "merge4 = calculate_and_merge_avg(merge3, group_by_cols, agg_col)\n",
    "\n",
    "group_by_cols = ['week', 'meal_id']\n",
    "merge5 = calculate_and_merge_avg(merge4, group_by_cols, agg_col)\n",
    "\n",
    "group_by_cols = ['week', 'region_code']\n",
    "merge6 = calculate_and_merge_avg(merge5, group_by_cols, agg_col)\n",
    "\n",
    "group_by_cols = ['week', 'center_type']\n",
    "merge7 = calculate_and_merge_avg(merge6, group_by_cols, agg_col)\n",
    "\n",
    "group_by_cols = ['week', 'op_area']\n",
    "merge8 = calculate_and_merge_avg(merge7, group_by_cols, agg_col)\n"
   ],
   "metadata": {
    "collapsed": false,
    "ExecuteTime": {
     "end_time": "2024-01-28T14:53:36.624285500Z",
     "start_time": "2024-01-28T14:53:35.718783800Z"
    }
   },
   "id": "179a3ae5ac091eff",
   "execution_count": 9
  },
  {
   "cell_type": "code",
   "outputs": [
    {
     "data": {
      "text/plain": "   week  center_id  meal_id  checkout_price  base_price  \\\n0     1         91     1062        5.227519    5.216728   \n1     1         91     1109        5.639742    5.744380   \n2     1         91     1198        5.338280    5.607357   \n3     1         91     1207        5.783764    5.968708   \n4     1         91     1216        5.939844    6.000986   \n\n   emailer_for_promotion  homepage_featured  num_orders   category  \\\n0                      0                  0    3.761200  Beverages   \n1                      1                  0    5.375278  Rice Bowl   \n2                      0                  0    0.000000     Extras   \n3                      0                  0    5.323010  Beverages   \n4                      0                  0    0.000000      Pasta   \n\n       cuisine  ...  op_area  perc_diff Average_price_per_city_code  \\\n0      Italian  ...      0.9   0.206867                    5.720206   \n1       Indian  ...      0.9  -1.821586                    5.720206   \n2         Thai  ...      0.9  -4.798646                    5.720206   \n3  Continental  ...      0.9  -3.098559                    5.720206   \n4      Italian  ...      0.9  -1.018867                    5.720206   \n\n   Average_price_per_center_id  Average_price_per_category  \\\n0                     5.647096                    5.325136   \n1                     5.647096                    5.767132   \n2                     5.647096                    5.135605   \n3                     5.647096                    5.325136   \n4                     5.647096                    5.891636   \n\n   Average_price_per_cuisine  Average_price_per_meal_id  \\\n0                   5.601794                   5.176376   \n1                   5.863481                   5.580744   \n2                   5.302142                   5.191187   \n3                   6.227488                   5.776725   \n4                   5.601794                   6.021329   \n\n   Average_price_per_region_code  Average_price_per_center_type  \\\n0                       5.725027                       5.728377   \n1                       5.725027                       5.728377   \n2                       5.725027                       5.728377   \n3                       5.725027                       5.728377   \n4                       5.725027                       5.728377   \n\n   Average_price_per_op_area  \n0                   5.647096  \n1                   5.647096  \n2                   5.647096  \n3                   5.647096  \n4                   5.647096  \n\n[5 rows x 23 columns]",
      "text/html": "<div>\n<style scoped>\n    .dataframe tbody tr th:only-of-type {\n        vertical-align: middle;\n    }\n\n    .dataframe tbody tr th {\n        vertical-align: top;\n    }\n\n    .dataframe thead th {\n        text-align: right;\n    }\n</style>\n<table border=\"1\" class=\"dataframe\">\n  <thead>\n    <tr style=\"text-align: right;\">\n      <th></th>\n      <th>week</th>\n      <th>center_id</th>\n      <th>meal_id</th>\n      <th>checkout_price</th>\n      <th>base_price</th>\n      <th>emailer_for_promotion</th>\n      <th>homepage_featured</th>\n      <th>num_orders</th>\n      <th>category</th>\n      <th>cuisine</th>\n      <th>...</th>\n      <th>op_area</th>\n      <th>perc_diff</th>\n      <th>Average_price_per_city_code</th>\n      <th>Average_price_per_center_id</th>\n      <th>Average_price_per_category</th>\n      <th>Average_price_per_cuisine</th>\n      <th>Average_price_per_meal_id</th>\n      <th>Average_price_per_region_code</th>\n      <th>Average_price_per_center_type</th>\n      <th>Average_price_per_op_area</th>\n    </tr>\n  </thead>\n  <tbody>\n    <tr>\n      <th>0</th>\n      <td>1</td>\n      <td>91</td>\n      <td>1062</td>\n      <td>5.227519</td>\n      <td>5.216728</td>\n      <td>0</td>\n      <td>0</td>\n      <td>3.761200</td>\n      <td>Beverages</td>\n      <td>Italian</td>\n      <td>...</td>\n      <td>0.9</td>\n      <td>0.206867</td>\n      <td>5.720206</td>\n      <td>5.647096</td>\n      <td>5.325136</td>\n      <td>5.601794</td>\n      <td>5.176376</td>\n      <td>5.725027</td>\n      <td>5.728377</td>\n      <td>5.647096</td>\n    </tr>\n    <tr>\n      <th>1</th>\n      <td>1</td>\n      <td>91</td>\n      <td>1109</td>\n      <td>5.639742</td>\n      <td>5.744380</td>\n      <td>1</td>\n      <td>0</td>\n      <td>5.375278</td>\n      <td>Rice Bowl</td>\n      <td>Indian</td>\n      <td>...</td>\n      <td>0.9</td>\n      <td>-1.821586</td>\n      <td>5.720206</td>\n      <td>5.647096</td>\n      <td>5.767132</td>\n      <td>5.863481</td>\n      <td>5.580744</td>\n      <td>5.725027</td>\n      <td>5.728377</td>\n      <td>5.647096</td>\n    </tr>\n    <tr>\n      <th>2</th>\n      <td>1</td>\n      <td>91</td>\n      <td>1198</td>\n      <td>5.338280</td>\n      <td>5.607357</td>\n      <td>0</td>\n      <td>0</td>\n      <td>0.000000</td>\n      <td>Extras</td>\n      <td>Thai</td>\n      <td>...</td>\n      <td>0.9</td>\n      <td>-4.798646</td>\n      <td>5.720206</td>\n      <td>5.647096</td>\n      <td>5.135605</td>\n      <td>5.302142</td>\n      <td>5.191187</td>\n      <td>5.725027</td>\n      <td>5.728377</td>\n      <td>5.647096</td>\n    </tr>\n    <tr>\n      <th>3</th>\n      <td>1</td>\n      <td>91</td>\n      <td>1207</td>\n      <td>5.783764</td>\n      <td>5.968708</td>\n      <td>0</td>\n      <td>0</td>\n      <td>5.323010</td>\n      <td>Beverages</td>\n      <td>Continental</td>\n      <td>...</td>\n      <td>0.9</td>\n      <td>-3.098559</td>\n      <td>5.720206</td>\n      <td>5.647096</td>\n      <td>5.325136</td>\n      <td>6.227488</td>\n      <td>5.776725</td>\n      <td>5.725027</td>\n      <td>5.728377</td>\n      <td>5.647096</td>\n    </tr>\n    <tr>\n      <th>4</th>\n      <td>1</td>\n      <td>91</td>\n      <td>1216</td>\n      <td>5.939844</td>\n      <td>6.000986</td>\n      <td>0</td>\n      <td>0</td>\n      <td>0.000000</td>\n      <td>Pasta</td>\n      <td>Italian</td>\n      <td>...</td>\n      <td>0.9</td>\n      <td>-1.018867</td>\n      <td>5.720206</td>\n      <td>5.647096</td>\n      <td>5.891636</td>\n      <td>5.601794</td>\n      <td>6.021329</td>\n      <td>5.725027</td>\n      <td>5.728377</td>\n      <td>5.647096</td>\n    </tr>\n  </tbody>\n</table>\n<p>5 rows × 23 columns</p>\n</div>"
     },
     "execution_count": 10,
     "metadata": {},
     "output_type": "execute_result"
    }
   ],
   "source": [
    "merge8.head()"
   ],
   "metadata": {
    "collapsed": false,
    "ExecuteTime": {
     "end_time": "2024-01-28T14:53:36.637612Z",
     "start_time": "2024-01-28T14:53:36.625298800Z"
    }
   },
   "id": "1d684462ee194fb1",
   "execution_count": 10
  },
  {
   "cell_type": "code",
   "outputs": [
    {
     "data": {
      "text/plain": "   week  center_id  meal_id  checkout_price  base_price  \\\n0     1         91     1062        5.227519    5.216728   \n1     1         91     1109        5.639742    5.744380   \n2     1         91     1198        5.338280    5.607357   \n3     1         91     1207        5.783764    5.968708   \n4     1         91     1216        5.939844    6.000986   \n\n   emailer_for_promotion  homepage_featured  num_orders   category  \\\n0                      0                  0    3.761200  Beverages   \n1                      1                  0    5.375278  Rice Bowl   \n2                      0                  0    0.000000     Extras   \n3                      0                  0    5.323010  Beverages   \n4                      0                  0    0.000000      Pasta   \n\n       cuisine  ...  op_area  perc_diff  \\\n0      Italian  ...      0.9   0.206867   \n1       Indian  ...      0.9  -1.821586   \n2         Thai  ...      0.9  -4.798646   \n3  Continental  ...      0.9  -3.098559   \n4      Italian  ...      0.9  -1.018867   \n\n  checkout_price/avg_checkout price for per week per city_code  \\\n0                                           0.913869             \n1                                           0.985933             \n2                                           0.933232             \n3                                           1.011111             \n4                                           1.038397             \n\n   checkout_price/avg_checkout price for per week per center_id  \\\n0                                           0.925700              \n1                                           0.998698              \n2                                           0.945314              \n3                                           1.024201              \n4                                           1.051841              \n\n   checkout_price/avg_checkout price for per week per category  \\\n0                                           0.981669             \n1                                           0.977911             \n2                                           1.039465             \n3                                           1.086125             \n4                                           1.008183             \n\n   checkout_price/avg_checkout price for per week per cuisine  \\\n0                                           0.933187            \n1                                           0.961842            \n2                                           1.006816            \n3                                           0.928747            \n4                                           1.060347            \n\n   checkout_price/avg_checkout price for per week per meal_id  \\\n0                                           1.009880            \n1                                           1.010572            \n2                                           1.028335            \n3                                           1.001218            \n4                                           0.986467            \n\n   checkout_price/avg_checkout price for per week per region_code  \\\n0                                           0.913100                \n1                                           0.985103                \n2                                           0.932446                \n3                                           1.010260                \n4                                           1.037522                \n\n   checkout_price/avg_checkout price for per week per center_type  \\\n0                                           0.912566                \n1                                           0.984527                \n2                                           0.931901                \n3                                           1.009669                \n4                                           1.036916                \n\n   checkout_price/avg_checkout price for per week per op_area  \n0                                           0.925700           \n1                                           0.998698           \n2                                           0.945314           \n3                                           1.024201           \n4                                           1.051841           \n\n[5 rows x 23 columns]",
      "text/html": "<div>\n<style scoped>\n    .dataframe tbody tr th:only-of-type {\n        vertical-align: middle;\n    }\n\n    .dataframe tbody tr th {\n        vertical-align: top;\n    }\n\n    .dataframe thead th {\n        text-align: right;\n    }\n</style>\n<table border=\"1\" class=\"dataframe\">\n  <thead>\n    <tr style=\"text-align: right;\">\n      <th></th>\n      <th>week</th>\n      <th>center_id</th>\n      <th>meal_id</th>\n      <th>checkout_price</th>\n      <th>base_price</th>\n      <th>emailer_for_promotion</th>\n      <th>homepage_featured</th>\n      <th>num_orders</th>\n      <th>category</th>\n      <th>cuisine</th>\n      <th>...</th>\n      <th>op_area</th>\n      <th>perc_diff</th>\n      <th>checkout_price/avg_checkout price for per week per city_code</th>\n      <th>checkout_price/avg_checkout price for per week per center_id</th>\n      <th>checkout_price/avg_checkout price for per week per category</th>\n      <th>checkout_price/avg_checkout price for per week per cuisine</th>\n      <th>checkout_price/avg_checkout price for per week per meal_id</th>\n      <th>checkout_price/avg_checkout price for per week per region_code</th>\n      <th>checkout_price/avg_checkout price for per week per center_type</th>\n      <th>checkout_price/avg_checkout price for per week per op_area</th>\n    </tr>\n  </thead>\n  <tbody>\n    <tr>\n      <th>0</th>\n      <td>1</td>\n      <td>91</td>\n      <td>1062</td>\n      <td>5.227519</td>\n      <td>5.216728</td>\n      <td>0</td>\n      <td>0</td>\n      <td>3.761200</td>\n      <td>Beverages</td>\n      <td>Italian</td>\n      <td>...</td>\n      <td>0.9</td>\n      <td>0.206867</td>\n      <td>0.913869</td>\n      <td>0.925700</td>\n      <td>0.981669</td>\n      <td>0.933187</td>\n      <td>1.009880</td>\n      <td>0.913100</td>\n      <td>0.912566</td>\n      <td>0.925700</td>\n    </tr>\n    <tr>\n      <th>1</th>\n      <td>1</td>\n      <td>91</td>\n      <td>1109</td>\n      <td>5.639742</td>\n      <td>5.744380</td>\n      <td>1</td>\n      <td>0</td>\n      <td>5.375278</td>\n      <td>Rice Bowl</td>\n      <td>Indian</td>\n      <td>...</td>\n      <td>0.9</td>\n      <td>-1.821586</td>\n      <td>0.985933</td>\n      <td>0.998698</td>\n      <td>0.977911</td>\n      <td>0.961842</td>\n      <td>1.010572</td>\n      <td>0.985103</td>\n      <td>0.984527</td>\n      <td>0.998698</td>\n    </tr>\n    <tr>\n      <th>2</th>\n      <td>1</td>\n      <td>91</td>\n      <td>1198</td>\n      <td>5.338280</td>\n      <td>5.607357</td>\n      <td>0</td>\n      <td>0</td>\n      <td>0.000000</td>\n      <td>Extras</td>\n      <td>Thai</td>\n      <td>...</td>\n      <td>0.9</td>\n      <td>-4.798646</td>\n      <td>0.933232</td>\n      <td>0.945314</td>\n      <td>1.039465</td>\n      <td>1.006816</td>\n      <td>1.028335</td>\n      <td>0.932446</td>\n      <td>0.931901</td>\n      <td>0.945314</td>\n    </tr>\n    <tr>\n      <th>3</th>\n      <td>1</td>\n      <td>91</td>\n      <td>1207</td>\n      <td>5.783764</td>\n      <td>5.968708</td>\n      <td>0</td>\n      <td>0</td>\n      <td>5.323010</td>\n      <td>Beverages</td>\n      <td>Continental</td>\n      <td>...</td>\n      <td>0.9</td>\n      <td>-3.098559</td>\n      <td>1.011111</td>\n      <td>1.024201</td>\n      <td>1.086125</td>\n      <td>0.928747</td>\n      <td>1.001218</td>\n      <td>1.010260</td>\n      <td>1.009669</td>\n      <td>1.024201</td>\n    </tr>\n    <tr>\n      <th>4</th>\n      <td>1</td>\n      <td>91</td>\n      <td>1216</td>\n      <td>5.939844</td>\n      <td>6.000986</td>\n      <td>0</td>\n      <td>0</td>\n      <td>0.000000</td>\n      <td>Pasta</td>\n      <td>Italian</td>\n      <td>...</td>\n      <td>0.9</td>\n      <td>-1.018867</td>\n      <td>1.038397</td>\n      <td>1.051841</td>\n      <td>1.008183</td>\n      <td>1.060347</td>\n      <td>0.986467</td>\n      <td>1.037522</td>\n      <td>1.036916</td>\n      <td>1.051841</td>\n    </tr>\n  </tbody>\n</table>\n<p>5 rows × 23 columns</p>\n</div>"
     },
     "execution_count": 11,
     "metadata": {},
     "output_type": "execute_result"
    }
   ],
   "source": [
    "merge9 = merge8\n",
    "#checkout_price/avg_checkout price for per week per city_code \n",
    "merge9['checkout_price/avg_checkout price for per week per city_code']=merge9['checkout_price']/merge9['Average_price_per_city_code']\n",
    "merge9['checkout_price/avg_checkout price for per week per center_id']=merge9['checkout_price']/merge9['Average_price_per_center_id']\n",
    "merge9['checkout_price/avg_checkout price for per week per category']=merge9['checkout_price']/merge9['Average_price_per_category']\n",
    "merge9['checkout_price/avg_checkout price for per week per cuisine']=merge9['checkout_price']/merge9['Average_price_per_cuisine']\n",
    "merge9['checkout_price/avg_checkout price for per week per meal_id']=merge9['checkout_price']/merge9['Average_price_per_meal_id']\n",
    "merge9['checkout_price/avg_checkout price for per week per region_code']=merge9['checkout_price']/merge9['Average_price_per_region_code']\n",
    "merge9['checkout_price/avg_checkout price for per week per center_type']=merge9['checkout_price']/merge9['Average_price_per_center_type']\n",
    "merge9['checkout_price/avg_checkout price for per week per op_area']=merge9['checkout_price']/merge9['Average_price_per_op_area']\n",
    "\n",
    "cols_to_remove = ['Average_price_per_city_code', 'Average_price_per_center_id', 'Average_price_per_category', 'Average_price_per_cuisine', 'Average_price_per_meal_id', 'Average_price_per_region_code', 'Average_price_per_center_type', 'Average_price_per_op_area']\n",
    "merge9.drop(columns = cols_to_remove, inplace = True)\n",
    "merge9.head()"
   ],
   "metadata": {
    "collapsed": false,
    "ExecuteTime": {
     "end_time": "2024-01-28T14:53:36.710430900Z",
     "start_time": "2024-01-28T14:53:36.635603100Z"
    }
   },
   "id": "a06e1379978b812a",
   "execution_count": 11
  },
  {
   "cell_type": "code",
   "outputs": [
    {
     "data": {
      "text/plain": "                                                    perc_diff  \\\nperc_diff                                            1.000000   \ncheckout_price/avg_checkout price for per week ...   0.258400   \ncheckout_price/avg_checkout price for per week ...   0.257810   \ncheckout_price/avg_checkout price for per week ...   0.306673   \ncheckout_price/avg_checkout price for per week ...   0.363589   \ncheckout_price/avg_checkout price for per week ...   0.275266   \n\n                                                    checkout_price/avg_checkout price for per week per city_code  \\\nperc_diff                                                                                    0.258400              \ncheckout_price/avg_checkout price for per week ...                                           1.000000              \ncheckout_price/avg_checkout price for per week ...                                           0.999602              \ncheckout_price/avg_checkout price for per week ...                                           0.523318              \ncheckout_price/avg_checkout price for per week ...                                           0.733033              \ncheckout_price/avg_checkout price for per week ...                                           0.173139              \n\n                                                    checkout_price/avg_checkout price for per week per center_id  \\\nperc_diff                                                                                    0.257810              \ncheckout_price/avg_checkout price for per week ...                                           0.999602              \ncheckout_price/avg_checkout price for per week ...                                           1.000000              \ncheckout_price/avg_checkout price for per week ...                                           0.523416              \ncheckout_price/avg_checkout price for per week ...                                           0.732946              \ncheckout_price/avg_checkout price for per week ...                                           0.172824              \n\n                                                    checkout_price/avg_checkout price for per week per category  \\\nperc_diff                                                                                    0.306673             \ncheckout_price/avg_checkout price for per week ...                                           0.523318             \ncheckout_price/avg_checkout price for per week ...                                           0.523416             \ncheckout_price/avg_checkout price for per week ...                                           1.000000             \ncheckout_price/avg_checkout price for per week ...                                           0.382402             \ncheckout_price/avg_checkout price for per week ...                                           0.322275             \n\n                                                    checkout_price/avg_checkout price for per week per cuisine  \\\nperc_diff                                                                                    0.363589            \ncheckout_price/avg_checkout price for per week ...                                           0.733033            \ncheckout_price/avg_checkout price for per week ...                                           0.732946            \ncheckout_price/avg_checkout price for per week ...                                           0.382402            \ncheckout_price/avg_checkout price for per week ...                                           1.000000            \ncheckout_price/avg_checkout price for per week ...                                           0.234898            \n\n                                                    checkout_price/avg_checkout price for per week per meal_id  \nperc_diff                                                                                    0.275266           \ncheckout_price/avg_checkout price for per week ...                                           0.173139           \ncheckout_price/avg_checkout price for per week ...                                           0.172824           \ncheckout_price/avg_checkout price for per week ...                                           0.322275           \ncheckout_price/avg_checkout price for per week ...                                           0.234898           \ncheckout_price/avg_checkout price for per week ...                                           1.000000           ",
      "text/html": "<div>\n<style scoped>\n    .dataframe tbody tr th:only-of-type {\n        vertical-align: middle;\n    }\n\n    .dataframe tbody tr th {\n        vertical-align: top;\n    }\n\n    .dataframe thead th {\n        text-align: right;\n    }\n</style>\n<table border=\"1\" class=\"dataframe\">\n  <thead>\n    <tr style=\"text-align: right;\">\n      <th></th>\n      <th>perc_diff</th>\n      <th>checkout_price/avg_checkout price for per week per city_code</th>\n      <th>checkout_price/avg_checkout price for per week per center_id</th>\n      <th>checkout_price/avg_checkout price for per week per category</th>\n      <th>checkout_price/avg_checkout price for per week per cuisine</th>\n      <th>checkout_price/avg_checkout price for per week per meal_id</th>\n    </tr>\n  </thead>\n  <tbody>\n    <tr>\n      <th>perc_diff</th>\n      <td>1.000000</td>\n      <td>0.258400</td>\n      <td>0.257810</td>\n      <td>0.306673</td>\n      <td>0.363589</td>\n      <td>0.275266</td>\n    </tr>\n    <tr>\n      <th>checkout_price/avg_checkout price for per week per city_code</th>\n      <td>0.258400</td>\n      <td>1.000000</td>\n      <td>0.999602</td>\n      <td>0.523318</td>\n      <td>0.733033</td>\n      <td>0.173139</td>\n    </tr>\n    <tr>\n      <th>checkout_price/avg_checkout price for per week per center_id</th>\n      <td>0.257810</td>\n      <td>0.999602</td>\n      <td>1.000000</td>\n      <td>0.523416</td>\n      <td>0.732946</td>\n      <td>0.172824</td>\n    </tr>\n    <tr>\n      <th>checkout_price/avg_checkout price for per week per category</th>\n      <td>0.306673</td>\n      <td>0.523318</td>\n      <td>0.523416</td>\n      <td>1.000000</td>\n      <td>0.382402</td>\n      <td>0.322275</td>\n    </tr>\n    <tr>\n      <th>checkout_price/avg_checkout price for per week per cuisine</th>\n      <td>0.363589</td>\n      <td>0.733033</td>\n      <td>0.732946</td>\n      <td>0.382402</td>\n      <td>1.000000</td>\n      <td>0.234898</td>\n    </tr>\n    <tr>\n      <th>checkout_price/avg_checkout price for per week per meal_id</th>\n      <td>0.275266</td>\n      <td>0.173139</td>\n      <td>0.172824</td>\n      <td>0.322275</td>\n      <td>0.234898</td>\n      <td>1.000000</td>\n    </tr>\n  </tbody>\n</table>\n</div>"
     },
     "execution_count": 12,
     "metadata": {},
     "output_type": "execute_result"
    }
   ],
   "source": [
    "merge9[merge9.columns[14:-3]].corr()"
   ],
   "metadata": {
    "collapsed": false,
    "ExecuteTime": {
     "end_time": "2024-01-28T14:53:36.748918800Z",
     "start_time": "2024-01-28T14:53:36.680514200Z"
    }
   },
   "id": "6e2580ded570348e",
   "execution_count": 12
  },
  {
   "cell_type": "code",
   "outputs": [
    {
     "data": {
      "text/plain": "   week  center_id  meal_id  checkout_price  base_price  \\\n0     1         91     1062        5.227519    5.216728   \n1     1         91     1109        5.639742    5.744380   \n2     1         91     1198        5.338280    5.607357   \n3     1         91     1207        5.783764    5.968708   \n4     1         91     1216        5.939844    6.000986   \n\n   emailer_for_promotion  homepage_featured  num_orders   category  \\\n0                      0                  0    3.761200  Beverages   \n1                      1                  0    5.375278  Rice Bowl   \n2                      0                  0    0.000000     Extras   \n3                      0                  0    5.323010  Beverages   \n4                      0                  0    0.000000      Pasta   \n\n       cuisine  city_code  region_code center_type  op_area  perc_diff  \\\n0      Italian        590           56      TYPE_C      0.9   0.206867   \n1       Indian        590           56      TYPE_C      0.9  -1.821586   \n2         Thai        590           56      TYPE_C      0.9  -4.798646   \n3  Continental        590           56      TYPE_C      0.9  -3.098559   \n4      Italian        590           56      TYPE_C      0.9  -1.018867   \n\n   checkout_price/avg_checkout price for per week per city_code  \\\n0                                           0.913869              \n1                                           0.985933              \n2                                           0.933232              \n3                                           1.011111              \n4                                           1.038397              \n\n   checkout_price/avg_checkout price for per week per category  \\\n0                                           0.981669             \n1                                           0.977911             \n2                                           1.039465             \n3                                           1.086125             \n4                                           1.008183             \n\n   checkout_price/avg_checkout price for per week per cuisine  \\\n0                                           0.933187            \n1                                           0.961842            \n2                                           1.006816            \n3                                           0.928747            \n4                                           1.060347            \n\n   checkout_price/avg_checkout price for per week per meal_id  \n0                                           1.009880           \n1                                           1.010572           \n2                                           1.028335           \n3                                           1.001218           \n4                                           0.986467           ",
      "text/html": "<div>\n<style scoped>\n    .dataframe tbody tr th:only-of-type {\n        vertical-align: middle;\n    }\n\n    .dataframe tbody tr th {\n        vertical-align: top;\n    }\n\n    .dataframe thead th {\n        text-align: right;\n    }\n</style>\n<table border=\"1\" class=\"dataframe\">\n  <thead>\n    <tr style=\"text-align: right;\">\n      <th></th>\n      <th>week</th>\n      <th>center_id</th>\n      <th>meal_id</th>\n      <th>checkout_price</th>\n      <th>base_price</th>\n      <th>emailer_for_promotion</th>\n      <th>homepage_featured</th>\n      <th>num_orders</th>\n      <th>category</th>\n      <th>cuisine</th>\n      <th>city_code</th>\n      <th>region_code</th>\n      <th>center_type</th>\n      <th>op_area</th>\n      <th>perc_diff</th>\n      <th>checkout_price/avg_checkout price for per week per city_code</th>\n      <th>checkout_price/avg_checkout price for per week per category</th>\n      <th>checkout_price/avg_checkout price for per week per cuisine</th>\n      <th>checkout_price/avg_checkout price for per week per meal_id</th>\n    </tr>\n  </thead>\n  <tbody>\n    <tr>\n      <th>0</th>\n      <td>1</td>\n      <td>91</td>\n      <td>1062</td>\n      <td>5.227519</td>\n      <td>5.216728</td>\n      <td>0</td>\n      <td>0</td>\n      <td>3.761200</td>\n      <td>Beverages</td>\n      <td>Italian</td>\n      <td>590</td>\n      <td>56</td>\n      <td>TYPE_C</td>\n      <td>0.9</td>\n      <td>0.206867</td>\n      <td>0.913869</td>\n      <td>0.981669</td>\n      <td>0.933187</td>\n      <td>1.009880</td>\n    </tr>\n    <tr>\n      <th>1</th>\n      <td>1</td>\n      <td>91</td>\n      <td>1109</td>\n      <td>5.639742</td>\n      <td>5.744380</td>\n      <td>1</td>\n      <td>0</td>\n      <td>5.375278</td>\n      <td>Rice Bowl</td>\n      <td>Indian</td>\n      <td>590</td>\n      <td>56</td>\n      <td>TYPE_C</td>\n      <td>0.9</td>\n      <td>-1.821586</td>\n      <td>0.985933</td>\n      <td>0.977911</td>\n      <td>0.961842</td>\n      <td>1.010572</td>\n    </tr>\n    <tr>\n      <th>2</th>\n      <td>1</td>\n      <td>91</td>\n      <td>1198</td>\n      <td>5.338280</td>\n      <td>5.607357</td>\n      <td>0</td>\n      <td>0</td>\n      <td>0.000000</td>\n      <td>Extras</td>\n      <td>Thai</td>\n      <td>590</td>\n      <td>56</td>\n      <td>TYPE_C</td>\n      <td>0.9</td>\n      <td>-4.798646</td>\n      <td>0.933232</td>\n      <td>1.039465</td>\n      <td>1.006816</td>\n      <td>1.028335</td>\n    </tr>\n    <tr>\n      <th>3</th>\n      <td>1</td>\n      <td>91</td>\n      <td>1207</td>\n      <td>5.783764</td>\n      <td>5.968708</td>\n      <td>0</td>\n      <td>0</td>\n      <td>5.323010</td>\n      <td>Beverages</td>\n      <td>Continental</td>\n      <td>590</td>\n      <td>56</td>\n      <td>TYPE_C</td>\n      <td>0.9</td>\n      <td>-3.098559</td>\n      <td>1.011111</td>\n      <td>1.086125</td>\n      <td>0.928747</td>\n      <td>1.001218</td>\n    </tr>\n    <tr>\n      <th>4</th>\n      <td>1</td>\n      <td>91</td>\n      <td>1216</td>\n      <td>5.939844</td>\n      <td>6.000986</td>\n      <td>0</td>\n      <td>0</td>\n      <td>0.000000</td>\n      <td>Pasta</td>\n      <td>Italian</td>\n      <td>590</td>\n      <td>56</td>\n      <td>TYPE_C</td>\n      <td>0.9</td>\n      <td>-1.018867</td>\n      <td>1.038397</td>\n      <td>1.008183</td>\n      <td>1.060347</td>\n      <td>0.986467</td>\n    </tr>\n  </tbody>\n</table>\n</div>"
     },
     "execution_count": 13,
     "metadata": {},
     "output_type": "execute_result"
    }
   ],
   "source": [
    "# Remove highly correlated features\n",
    "cols = merge9.columns.tolist()\n",
    "cols_to_remove = ['checkout_price/avg_checkout price for per week per center_id'] + cols[-3:]\n",
    "merge9.drop(columns = cols_to_remove, inplace = True)\n",
    "merge9.head()"
   ],
   "metadata": {
    "collapsed": false,
    "ExecuteTime": {
     "end_time": "2024-01-28T14:53:36.781594100Z",
     "start_time": "2024-01-28T14:53:36.721160100Z"
    }
   },
   "id": "d060ec630c0e829c",
   "execution_count": 13
  },
  {
   "cell_type": "code",
   "outputs": [
    {
     "data": {
      "text/plain": "   week  center_id  meal_id  checkout_price  base_price  \\\n0     1         91     1062        5.227519    5.216728   \n1     1         91     1109        5.639742    5.744380   \n2     1         91     1198        5.338280    5.607357   \n3     1         91     1207        5.783764    5.968708   \n4     1         91     1216        5.939844    6.000986   \n\n   emailer_for_promotion  homepage_featured  num_orders   category  \\\n0                      0                  0    3.761200  Beverages   \n1                      1                  0    5.375278  Rice Bowl   \n2                      0                  0    0.000000     Extras   \n3                      0                  0    5.323010  Beverages   \n4                      0                  0    0.000000      Pasta   \n\n       cuisine center_type  op_area  perc_diff  \\\n0      Italian      TYPE_C      0.9   0.206867   \n1       Indian      TYPE_C      0.9  -1.821586   \n2         Thai      TYPE_C      0.9  -4.798646   \n3  Continental      TYPE_C      0.9  -3.098559   \n4      Italian      TYPE_C      0.9  -1.018867   \n\n   checkout_price/avg_checkout price for per week per city_code  \\\n0                                           0.913869              \n1                                           0.985933              \n2                                           0.933232              \n3                                           1.011111              \n4                                           1.038397              \n\n   checkout_price/avg_checkout price for per week per category  \\\n0                                           0.981669             \n1                                           0.977911             \n2                                           1.039465             \n3                                           1.086125             \n4                                           1.008183             \n\n   checkout_price/avg_checkout price for per week per cuisine  \\\n0                                           0.933187            \n1                                           0.961842            \n2                                           1.006816            \n3                                           0.928747            \n4                                           1.060347            \n\n   checkout_price/avg_checkout price for per week per meal_id city_region  \n0                                           1.009880               590_56  \n1                                           1.010572               590_56  \n2                                           1.028335               590_56  \n3                                           1.001218               590_56  \n4                                           0.986467               590_56  ",
      "text/html": "<div>\n<style scoped>\n    .dataframe tbody tr th:only-of-type {\n        vertical-align: middle;\n    }\n\n    .dataframe tbody tr th {\n        vertical-align: top;\n    }\n\n    .dataframe thead th {\n        text-align: right;\n    }\n</style>\n<table border=\"1\" class=\"dataframe\">\n  <thead>\n    <tr style=\"text-align: right;\">\n      <th></th>\n      <th>week</th>\n      <th>center_id</th>\n      <th>meal_id</th>\n      <th>checkout_price</th>\n      <th>base_price</th>\n      <th>emailer_for_promotion</th>\n      <th>homepage_featured</th>\n      <th>num_orders</th>\n      <th>category</th>\n      <th>cuisine</th>\n      <th>center_type</th>\n      <th>op_area</th>\n      <th>perc_diff</th>\n      <th>checkout_price/avg_checkout price for per week per city_code</th>\n      <th>checkout_price/avg_checkout price for per week per category</th>\n      <th>checkout_price/avg_checkout price for per week per cuisine</th>\n      <th>checkout_price/avg_checkout price for per week per meal_id</th>\n      <th>city_region</th>\n    </tr>\n  </thead>\n  <tbody>\n    <tr>\n      <th>0</th>\n      <td>1</td>\n      <td>91</td>\n      <td>1062</td>\n      <td>5.227519</td>\n      <td>5.216728</td>\n      <td>0</td>\n      <td>0</td>\n      <td>3.761200</td>\n      <td>Beverages</td>\n      <td>Italian</td>\n      <td>TYPE_C</td>\n      <td>0.9</td>\n      <td>0.206867</td>\n      <td>0.913869</td>\n      <td>0.981669</td>\n      <td>0.933187</td>\n      <td>1.009880</td>\n      <td>590_56</td>\n    </tr>\n    <tr>\n      <th>1</th>\n      <td>1</td>\n      <td>91</td>\n      <td>1109</td>\n      <td>5.639742</td>\n      <td>5.744380</td>\n      <td>1</td>\n      <td>0</td>\n      <td>5.375278</td>\n      <td>Rice Bowl</td>\n      <td>Indian</td>\n      <td>TYPE_C</td>\n      <td>0.9</td>\n      <td>-1.821586</td>\n      <td>0.985933</td>\n      <td>0.977911</td>\n      <td>0.961842</td>\n      <td>1.010572</td>\n      <td>590_56</td>\n    </tr>\n    <tr>\n      <th>2</th>\n      <td>1</td>\n      <td>91</td>\n      <td>1198</td>\n      <td>5.338280</td>\n      <td>5.607357</td>\n      <td>0</td>\n      <td>0</td>\n      <td>0.000000</td>\n      <td>Extras</td>\n      <td>Thai</td>\n      <td>TYPE_C</td>\n      <td>0.9</td>\n      <td>-4.798646</td>\n      <td>0.933232</td>\n      <td>1.039465</td>\n      <td>1.006816</td>\n      <td>1.028335</td>\n      <td>590_56</td>\n    </tr>\n    <tr>\n      <th>3</th>\n      <td>1</td>\n      <td>91</td>\n      <td>1207</td>\n      <td>5.783764</td>\n      <td>5.968708</td>\n      <td>0</td>\n      <td>0</td>\n      <td>5.323010</td>\n      <td>Beverages</td>\n      <td>Continental</td>\n      <td>TYPE_C</td>\n      <td>0.9</td>\n      <td>-3.098559</td>\n      <td>1.011111</td>\n      <td>1.086125</td>\n      <td>0.928747</td>\n      <td>1.001218</td>\n      <td>590_56</td>\n    </tr>\n    <tr>\n      <th>4</th>\n      <td>1</td>\n      <td>91</td>\n      <td>1216</td>\n      <td>5.939844</td>\n      <td>6.000986</td>\n      <td>0</td>\n      <td>0</td>\n      <td>0.000000</td>\n      <td>Pasta</td>\n      <td>Italian</td>\n      <td>TYPE_C</td>\n      <td>0.9</td>\n      <td>-1.018867</td>\n      <td>1.038397</td>\n      <td>1.008183</td>\n      <td>1.060347</td>\n      <td>0.986467</td>\n      <td>590_56</td>\n    </tr>\n  </tbody>\n</table>\n</div>"
     },
     "execution_count": 14,
     "metadata": {},
     "output_type": "execute_result"
    }
   ],
   "source": [
    "# Making one column for city_code and region_code\n",
    "merge9['city_region'] = merge9['city_code'].astype('str') + '_' + merge9['region_code'].astype('str')\n",
    "merge9.drop(columns = ['city_code', 'region_code'], inplace = True)\n",
    "merge9.head()"
   ],
   "metadata": {
    "collapsed": false,
    "ExecuteTime": {
     "end_time": "2024-01-28T14:53:36.941406900Z",
     "start_time": "2024-01-28T14:53:36.747918800Z"
    }
   },
   "id": "6471a59eb4e8fce3",
   "execution_count": 14
  },
  {
   "cell_type": "code",
   "outputs": [
    {
     "data": {
      "text/plain": "      meal_id  center_id  expanding_min  expanding_max  expanding_mean  \\\nweek                                                                     \n1        1062         10       6.763885       6.763885        6.763885   \n2        1062         10       6.663133       6.763885        6.713509   \n3        1062         10       6.663133       6.763885        6.724868   \n4        1062         10       6.663133       7.092574        6.816794   \n5        1062         10       6.663133       7.092574        6.826614   \n\n      weighted_average_2w  weighted_average_3w  \nweek                                            \n1                     NaN                  NaN  \n2                6.696717                  NaN  \n3                6.719435             6.722152  \n4                6.977578             6.906004  \n5                6.941452             6.921735  ",
      "text/html": "<div>\n<style scoped>\n    .dataframe tbody tr th:only-of-type {\n        vertical-align: middle;\n    }\n\n    .dataframe tbody tr th {\n        vertical-align: top;\n    }\n\n    .dataframe thead th {\n        text-align: right;\n    }\n</style>\n<table border=\"1\" class=\"dataframe\">\n  <thead>\n    <tr style=\"text-align: right;\">\n      <th></th>\n      <th>meal_id</th>\n      <th>center_id</th>\n      <th>expanding_min</th>\n      <th>expanding_max</th>\n      <th>expanding_mean</th>\n      <th>weighted_average_2w</th>\n      <th>weighted_average_3w</th>\n    </tr>\n    <tr>\n      <th>week</th>\n      <th></th>\n      <th></th>\n      <th></th>\n      <th></th>\n      <th></th>\n      <th></th>\n      <th></th>\n    </tr>\n  </thead>\n  <tbody>\n    <tr>\n      <th>1</th>\n      <td>1062</td>\n      <td>10</td>\n      <td>6.763885</td>\n      <td>6.763885</td>\n      <td>6.763885</td>\n      <td>NaN</td>\n      <td>NaN</td>\n    </tr>\n    <tr>\n      <th>2</th>\n      <td>1062</td>\n      <td>10</td>\n      <td>6.663133</td>\n      <td>6.763885</td>\n      <td>6.713509</td>\n      <td>6.696717</td>\n      <td>NaN</td>\n    </tr>\n    <tr>\n      <th>3</th>\n      <td>1062</td>\n      <td>10</td>\n      <td>6.663133</td>\n      <td>6.763885</td>\n      <td>6.724868</td>\n      <td>6.719435</td>\n      <td>6.722152</td>\n    </tr>\n    <tr>\n      <th>4</th>\n      <td>1062</td>\n      <td>10</td>\n      <td>6.663133</td>\n      <td>7.092574</td>\n      <td>6.816794</td>\n      <td>6.977578</td>\n      <td>6.906004</td>\n    </tr>\n    <tr>\n      <th>5</th>\n      <td>1062</td>\n      <td>10</td>\n      <td>6.663133</td>\n      <td>7.092574</td>\n      <td>6.826614</td>\n      <td>6.941452</td>\n      <td>6.921735</td>\n    </tr>\n  </tbody>\n</table>\n</div>"
     },
     "execution_count": 15,
     "metadata": {},
     "output_type": "execute_result"
    }
   ],
   "source": [
    "# Creating lag featuers with num_orders column\n",
    "merge9.set_index('week', inplace = True)\n",
    "\n",
    "# The minimum of the orders in all the previous weeks\n",
    "expand_min = merge9.groupby([ 'meal_id', 'center_id'])['num_orders'].expanding().min().reset_index()\n",
    "expand_min.set_index('week', inplace = True)\n",
    "expand_min.rename(columns = {'num_orders': 'expanding_min'}, inplace = True)\n",
    "\n",
    "# The maximum of the orders in all the previous weeks\n",
    "expand_max = merge9.groupby([ 'meal_id', 'center_id'])['num_orders'].expanding().max().reset_index()\n",
    "expand_max.set_index('week', inplace = True)\n",
    "expand_max.rename(columns = {'num_orders': 'expanding_max'}, inplace = True)\n",
    "\n",
    "# The mean of the orders in all the previous weeks\n",
    "expand_mean = merge9.groupby([ 'meal_id', 'center_id'])['num_orders'].expanding().mean().reset_index()\n",
    "expand_mean.set_index('week', inplace = True)\n",
    "expand_mean.rename(columns = {'num_orders': 'expanding_mean'}, inplace = True)\n",
    "\n",
    "# The weighted average of the orders from the previous two weeks\n",
    "weights_2 = np.arange(1,3)\n",
    "wma_2 = merge9.groupby(['meal_id', 'center_id'])['num_orders'].rolling(2).apply(lambda prices: np.dot(prices, weights_2)/weights_2.sum(), raw=True).reset_index()\n",
    "wma_2.set_index('week', inplace = True)\n",
    "wma_2.rename(columns = {'num_orders': 'weighted_average_2w'}, inplace = True)\n",
    "\n",
    "# The weighted average of the orders from the previous three weeks\n",
    "weights_3 = np.arange(1,4)\n",
    "wma_3 = merge9.groupby(['meal_id', 'center_id'])['num_orders'].rolling(3).apply(lambda prices: np.dot(prices, weights_3)/weights_3.sum(), raw=True).reset_index()\n",
    "wma_3.set_index('week', inplace = True)\n",
    "wma_3.rename(columns = {'num_orders': 'weighted_average_3w'}, inplace = True)\n",
    "\n",
    "expand = pd.concat([expand_min, expand_max, expand_mean, wma_2, wma_3], axis = 1)\n",
    "expand = expand.loc[:,~expand.columns.duplicated()]\n",
    "expand.head()"
   ],
   "metadata": {
    "collapsed": false,
    "ExecuteTime": {
     "end_time": "2024-01-28T14:53:39.584153300Z",
     "start_time": "2024-01-28T14:53:36.913522200Z"
    }
   },
   "id": "20a85aed2b1f0f2d",
   "execution_count": 15
  },
  {
   "cell_type": "code",
   "outputs": [
    {
     "data": {
      "text/plain": "      meal_id  center_id  expanding_mean  weighted_average_2w  \\\nweek                                                            \n1        1062         10        6.763885                  NaN   \n2        1062         10        6.713509             6.696717   \n3        1062         10        6.724868             6.719435   \n4        1062         10        6.816794             6.977578   \n5        1062         10        6.826614             6.941452   \n\n      weighted_average_3w  \nweek                       \n1                     NaN  \n2                     NaN  \n3                6.722152  \n4                6.906004  \n5                6.921735  ",
      "text/html": "<div>\n<style scoped>\n    .dataframe tbody tr th:only-of-type {\n        vertical-align: middle;\n    }\n\n    .dataframe tbody tr th {\n        vertical-align: top;\n    }\n\n    .dataframe thead th {\n        text-align: right;\n    }\n</style>\n<table border=\"1\" class=\"dataframe\">\n  <thead>\n    <tr style=\"text-align: right;\">\n      <th></th>\n      <th>meal_id</th>\n      <th>center_id</th>\n      <th>expanding_mean</th>\n      <th>weighted_average_2w</th>\n      <th>weighted_average_3w</th>\n    </tr>\n    <tr>\n      <th>week</th>\n      <th></th>\n      <th></th>\n      <th></th>\n      <th></th>\n      <th></th>\n    </tr>\n  </thead>\n  <tbody>\n    <tr>\n      <th>1</th>\n      <td>1062</td>\n      <td>10</td>\n      <td>6.763885</td>\n      <td>NaN</td>\n      <td>NaN</td>\n    </tr>\n    <tr>\n      <th>2</th>\n      <td>1062</td>\n      <td>10</td>\n      <td>6.713509</td>\n      <td>6.696717</td>\n      <td>NaN</td>\n    </tr>\n    <tr>\n      <th>3</th>\n      <td>1062</td>\n      <td>10</td>\n      <td>6.724868</td>\n      <td>6.719435</td>\n      <td>6.722152</td>\n    </tr>\n    <tr>\n      <th>4</th>\n      <td>1062</td>\n      <td>10</td>\n      <td>6.816794</td>\n      <td>6.977578</td>\n      <td>6.906004</td>\n    </tr>\n    <tr>\n      <th>5</th>\n      <td>1062</td>\n      <td>10</td>\n      <td>6.826614</td>\n      <td>6.941452</td>\n      <td>6.921735</td>\n    </tr>\n  </tbody>\n</table>\n</div>"
     },
     "execution_count": 16,
     "metadata": {},
     "output_type": "execute_result"
    }
   ],
   "source": [
    "expand[['meal_id', 'center_id', 'expanding_mean', 'weighted_average_2w', 'weighted_average_3w']].head() "
   ],
   "metadata": {
    "collapsed": false,
    "ExecuteTime": {
     "end_time": "2024-01-28T14:53:39.585290200Z",
     "start_time": "2024-01-28T14:53:39.575041500Z"
    }
   },
   "id": "f6b748b602028e19",
   "execution_count": 16
  },
  {
   "cell_type": "code",
   "outputs": [
    {
     "data": {
      "text/plain": "      center_id  meal_id  checkout_price  base_price  emailer_for_promotion  \\\nweek                                                                          \n1            10     1062        5.206147    5.206147                      0   \n2            10     1062        5.216890    5.211451                      0   \n3            10     1062        5.222300    5.211451                      0   \n4            10     1062        5.211451    5.216890                      0   \n5            10     1062        5.217053    5.206147                      0   \n\n      homepage_featured  num_orders   category  cuisine center_type  ...  \\\nweek                                                                 ...   \n1                     0    6.763885  Beverages  Italian      TYPE_B  ...   \n2                     0    6.663133  Beverages  Italian      TYPE_B  ...   \n3                     0    6.747587  Beverages  Italian      TYPE_B  ...   \n4                     0    7.092574  Beverages  Italian      TYPE_B  ...   \n5                     0    6.865891  Beverages  Italian      TYPE_B  ...   \n\n      checkout_price/avg_checkout price for per week per city_code  \\\nweek                                                                 \n1                                              0.910133              \n2                                              0.916534              \n3                                              0.917555              \n4                                              0.914400              \n5                                              0.919107              \n\n      checkout_price/avg_checkout price for per week per category  \\\nweek                                                                \n1                                              0.977655             \n2                                              1.005516             \n3                                              1.006351             \n4                                              0.999393             \n5                                              0.994085             \n\n      checkout_price/avg_checkout price for per week per cuisine  \\\nweek                                                               \n1                                              0.929371            \n2                                              0.929924            \n3                                              0.928829            \n4                                              0.923809            \n5                                              0.928612            \n\n      checkout_price/avg_checkout price for per week per meal_id  city_region  \\\nweek                                                                            \n1                                              1.005751                590_56   \n2                                              1.002815                590_56   \n3                                              1.004089                590_56   \n4                                              1.001818                590_56   \n5                                              1.008901                590_56   \n\n      expanding_min expanding_max  expanding_mean  weighted_average_2w  \\\nweek                                                                     \n1          6.763885      6.763885        6.763885                  NaN   \n2          6.663133      6.763885        6.713509             6.696717   \n3          6.663133      6.763885        6.724868             6.719435   \n4          6.663133      7.092574        6.816794             6.977578   \n5          6.663133      7.092574        6.826614             6.941452   \n\n      weighted_average_3w  \nweek                       \n1                     NaN  \n2                     NaN  \n3                6.722152  \n4                6.906004  \n5                6.921735  \n\n[5 rows x 22 columns]",
      "text/html": "<div>\n<style scoped>\n    .dataframe tbody tr th:only-of-type {\n        vertical-align: middle;\n    }\n\n    .dataframe tbody tr th {\n        vertical-align: top;\n    }\n\n    .dataframe thead th {\n        text-align: right;\n    }\n</style>\n<table border=\"1\" class=\"dataframe\">\n  <thead>\n    <tr style=\"text-align: right;\">\n      <th></th>\n      <th>center_id</th>\n      <th>meal_id</th>\n      <th>checkout_price</th>\n      <th>base_price</th>\n      <th>emailer_for_promotion</th>\n      <th>homepage_featured</th>\n      <th>num_orders</th>\n      <th>category</th>\n      <th>cuisine</th>\n      <th>center_type</th>\n      <th>...</th>\n      <th>checkout_price/avg_checkout price for per week per city_code</th>\n      <th>checkout_price/avg_checkout price for per week per category</th>\n      <th>checkout_price/avg_checkout price for per week per cuisine</th>\n      <th>checkout_price/avg_checkout price for per week per meal_id</th>\n      <th>city_region</th>\n      <th>expanding_min</th>\n      <th>expanding_max</th>\n      <th>expanding_mean</th>\n      <th>weighted_average_2w</th>\n      <th>weighted_average_3w</th>\n    </tr>\n    <tr>\n      <th>week</th>\n      <th></th>\n      <th></th>\n      <th></th>\n      <th></th>\n      <th></th>\n      <th></th>\n      <th></th>\n      <th></th>\n      <th></th>\n      <th></th>\n      <th></th>\n      <th></th>\n      <th></th>\n      <th></th>\n      <th></th>\n      <th></th>\n      <th></th>\n      <th></th>\n      <th></th>\n      <th></th>\n      <th></th>\n    </tr>\n  </thead>\n  <tbody>\n    <tr>\n      <th>1</th>\n      <td>10</td>\n      <td>1062</td>\n      <td>5.206147</td>\n      <td>5.206147</td>\n      <td>0</td>\n      <td>0</td>\n      <td>6.763885</td>\n      <td>Beverages</td>\n      <td>Italian</td>\n      <td>TYPE_B</td>\n      <td>...</td>\n      <td>0.910133</td>\n      <td>0.977655</td>\n      <td>0.929371</td>\n      <td>1.005751</td>\n      <td>590_56</td>\n      <td>6.763885</td>\n      <td>6.763885</td>\n      <td>6.763885</td>\n      <td>NaN</td>\n      <td>NaN</td>\n    </tr>\n    <tr>\n      <th>2</th>\n      <td>10</td>\n      <td>1062</td>\n      <td>5.216890</td>\n      <td>5.211451</td>\n      <td>0</td>\n      <td>0</td>\n      <td>6.663133</td>\n      <td>Beverages</td>\n      <td>Italian</td>\n      <td>TYPE_B</td>\n      <td>...</td>\n      <td>0.916534</td>\n      <td>1.005516</td>\n      <td>0.929924</td>\n      <td>1.002815</td>\n      <td>590_56</td>\n      <td>6.663133</td>\n      <td>6.763885</td>\n      <td>6.713509</td>\n      <td>6.696717</td>\n      <td>NaN</td>\n    </tr>\n    <tr>\n      <th>3</th>\n      <td>10</td>\n      <td>1062</td>\n      <td>5.222300</td>\n      <td>5.211451</td>\n      <td>0</td>\n      <td>0</td>\n      <td>6.747587</td>\n      <td>Beverages</td>\n      <td>Italian</td>\n      <td>TYPE_B</td>\n      <td>...</td>\n      <td>0.917555</td>\n      <td>1.006351</td>\n      <td>0.928829</td>\n      <td>1.004089</td>\n      <td>590_56</td>\n      <td>6.663133</td>\n      <td>6.763885</td>\n      <td>6.724868</td>\n      <td>6.719435</td>\n      <td>6.722152</td>\n    </tr>\n    <tr>\n      <th>4</th>\n      <td>10</td>\n      <td>1062</td>\n      <td>5.211451</td>\n      <td>5.216890</td>\n      <td>0</td>\n      <td>0</td>\n      <td>7.092574</td>\n      <td>Beverages</td>\n      <td>Italian</td>\n      <td>TYPE_B</td>\n      <td>...</td>\n      <td>0.914400</td>\n      <td>0.999393</td>\n      <td>0.923809</td>\n      <td>1.001818</td>\n      <td>590_56</td>\n      <td>6.663133</td>\n      <td>7.092574</td>\n      <td>6.816794</td>\n      <td>6.977578</td>\n      <td>6.906004</td>\n    </tr>\n    <tr>\n      <th>5</th>\n      <td>10</td>\n      <td>1062</td>\n      <td>5.217053</td>\n      <td>5.206147</td>\n      <td>0</td>\n      <td>0</td>\n      <td>6.865891</td>\n      <td>Beverages</td>\n      <td>Italian</td>\n      <td>TYPE_B</td>\n      <td>...</td>\n      <td>0.919107</td>\n      <td>0.994085</td>\n      <td>0.928612</td>\n      <td>1.008901</td>\n      <td>590_56</td>\n      <td>6.663133</td>\n      <td>7.092574</td>\n      <td>6.826614</td>\n      <td>6.941452</td>\n      <td>6.921735</td>\n    </tr>\n  </tbody>\n</table>\n<p>5 rows × 22 columns</p>\n</div>"
     },
     "execution_count": 17,
     "metadata": {},
     "output_type": "execute_result"
    }
   ],
   "source": [
    "# Sorting the columns so that it is easy to concatenate \n",
    "# merge9.drop(columns = 'id', inplace = True)\n",
    "merge9.sort_values(['meal_id', 'center_id'], inplace = True)\n",
    "\n",
    "# Merging the columns to the original data \n",
    "merge9 =pd.concat([merge9, expand], axis = 1)\n",
    "merge9 = merge9.loc[:,~merge9.columns.duplicated()]\n",
    "merge9.head()"
   ],
   "metadata": {
    "collapsed": false,
    "ExecuteTime": {
     "end_time": "2024-01-28T14:53:39.788926200Z",
     "start_time": "2024-01-28T14:53:39.585290200Z"
    }
   },
   "id": "257a0efe2bdada8c",
   "execution_count": 17
  },
  {
   "cell_type": "code",
   "outputs": [],
   "source": [
    "# Leading the num_orders column to make the target for prediction; We are trying to predict the next week's demand\n",
    "merge9['target_lead'] = merge9.groupby([ 'meal_id', 'center_id'])['num_orders'].shift(-1)\n",
    "\n",
    "# We would know these features about the next week beforehand, hence it makes sense to lead these as well\n",
    "# Just to be sure the prices are not correlated with the demand, this makes sure that we are not feeding in the test data to our model beforehand\n",
    "merge9['checkout_price_lead1'] = merge9.groupby([ 'meal_id', 'center_id'])['checkout_price'].shift(-1)\n",
    "merge9['base_price_lead1'] = merge9.groupby([ 'meal_id', 'center_id'])['base_price'].shift(-1)\n",
    "merge9['emailer_for_promotion_lead1'] = merge9.groupby([ 'meal_id', 'center_id'])['emailer_for_promotion'].shift(-1)\n",
    "merge9['homepage_featured_lead1'] = merge9.groupby([ 'meal_id', 'center_id'])['homepage_featured'].shift(-1)\n",
    "merge9['perc_diff_lead1'] = merge9.groupby([ 'meal_id', 'center_id'])['perc_diff'].shift(-1)"
   ],
   "metadata": {
    "collapsed": false,
    "ExecuteTime": {
     "end_time": "2024-01-28T14:53:39.867531400Z",
     "start_time": "2024-01-28T14:53:39.726530600Z"
    }
   },
   "id": "6145955935753768",
   "execution_count": 18
  },
  {
   "cell_type": "code",
   "outputs": [
    {
     "data": {
      "text/plain": "      center_id  meal_id  checkout_price  base_price  emailer_for_promotion  \\\nweek                                                                          \n1            10     1062        5.206147    5.206147                      0   \n2            10     1062        5.216890    5.211451                      0   \n3            10     1062        5.222300    5.211451                      0   \n4            10     1062        5.211451    5.216890                      0   \n5            10     1062        5.217053    5.206147                      0   \n\n      homepage_featured  num_orders   category  cuisine center_type  ...  \\\nweek                                                                 ...   \n1                     0    6.763885  Beverages  Italian      TYPE_B  ...   \n2                     0    6.663133  Beverages  Italian      TYPE_B  ...   \n3                     0    6.747587  Beverages  Italian      TYPE_B  ...   \n4                     0    7.092574  Beverages  Italian      TYPE_B  ...   \n5                     0    6.865891  Beverages  Italian      TYPE_B  ...   \n\n      checkout_price_lead1  base_price_lead1  emailer_for_promotion_lead1  \\\nweek                                                                        \n1                 5.216890          5.211451                          0.0   \n2                 5.222300          5.211451                          0.0   \n3                 5.211451          5.216890                          0.0   \n4                 5.217053          5.206147                          0.0   \n5                 5.094057          5.217053                          0.0   \n\n      homepage_featured_lead1  perc_diff_lead1  Avg_orders_cat_week  \\\nweek                                                                  \n1                         0.0         0.104365             5.147244   \n2                         0.0         0.208166             5.431697   \n3                         0.0        -0.104256             5.240581   \n4                         0.0         0.209480             5.264703   \n5                         0.0        -2.357580             4.962804   \n\n     Avg_orders_cuisine_week  Avg_orders_city-region_week  \\\nweek                                                        \n1                   3.890065                     4.181823   \n2                   3.799367                     4.158634   \n3                   3.815705                     4.106454   \n4                   3.643701                     4.185200   \n5                   3.524451                     4.154295   \n\n      Avg_orders_centert_week  Avg_orders_oparea_week  \nweek                                                   \n1                    4.419917                5.160021  \n2                    4.414651                5.076043  \n3                    4.343822                5.075262  \n4                    4.315736                5.032650  \n5                    4.039575                4.983015  \n\n[5 rows x 33 columns]",
      "text/html": "<div>\n<style scoped>\n    .dataframe tbody tr th:only-of-type {\n        vertical-align: middle;\n    }\n\n    .dataframe tbody tr th {\n        vertical-align: top;\n    }\n\n    .dataframe thead th {\n        text-align: right;\n    }\n</style>\n<table border=\"1\" class=\"dataframe\">\n  <thead>\n    <tr style=\"text-align: right;\">\n      <th></th>\n      <th>center_id</th>\n      <th>meal_id</th>\n      <th>checkout_price</th>\n      <th>base_price</th>\n      <th>emailer_for_promotion</th>\n      <th>homepage_featured</th>\n      <th>num_orders</th>\n      <th>category</th>\n      <th>cuisine</th>\n      <th>center_type</th>\n      <th>...</th>\n      <th>checkout_price_lead1</th>\n      <th>base_price_lead1</th>\n      <th>emailer_for_promotion_lead1</th>\n      <th>homepage_featured_lead1</th>\n      <th>perc_diff_lead1</th>\n      <th>Avg_orders_cat_week</th>\n      <th>Avg_orders_cuisine_week</th>\n      <th>Avg_orders_city-region_week</th>\n      <th>Avg_orders_centert_week</th>\n      <th>Avg_orders_oparea_week</th>\n    </tr>\n    <tr>\n      <th>week</th>\n      <th></th>\n      <th></th>\n      <th></th>\n      <th></th>\n      <th></th>\n      <th></th>\n      <th></th>\n      <th></th>\n      <th></th>\n      <th></th>\n      <th></th>\n      <th></th>\n      <th></th>\n      <th></th>\n      <th></th>\n      <th></th>\n      <th></th>\n      <th></th>\n      <th></th>\n      <th></th>\n      <th></th>\n    </tr>\n  </thead>\n  <tbody>\n    <tr>\n      <th>1</th>\n      <td>10</td>\n      <td>1062</td>\n      <td>5.206147</td>\n      <td>5.206147</td>\n      <td>0</td>\n      <td>0</td>\n      <td>6.763885</td>\n      <td>Beverages</td>\n      <td>Italian</td>\n      <td>TYPE_B</td>\n      <td>...</td>\n      <td>5.216890</td>\n      <td>5.211451</td>\n      <td>0.0</td>\n      <td>0.0</td>\n      <td>0.104365</td>\n      <td>5.147244</td>\n      <td>3.890065</td>\n      <td>4.181823</td>\n      <td>4.419917</td>\n      <td>5.160021</td>\n    </tr>\n    <tr>\n      <th>2</th>\n      <td>10</td>\n      <td>1062</td>\n      <td>5.216890</td>\n      <td>5.211451</td>\n      <td>0</td>\n      <td>0</td>\n      <td>6.663133</td>\n      <td>Beverages</td>\n      <td>Italian</td>\n      <td>TYPE_B</td>\n      <td>...</td>\n      <td>5.222300</td>\n      <td>5.211451</td>\n      <td>0.0</td>\n      <td>0.0</td>\n      <td>0.208166</td>\n      <td>5.431697</td>\n      <td>3.799367</td>\n      <td>4.158634</td>\n      <td>4.414651</td>\n      <td>5.076043</td>\n    </tr>\n    <tr>\n      <th>3</th>\n      <td>10</td>\n      <td>1062</td>\n      <td>5.222300</td>\n      <td>5.211451</td>\n      <td>0</td>\n      <td>0</td>\n      <td>6.747587</td>\n      <td>Beverages</td>\n      <td>Italian</td>\n      <td>TYPE_B</td>\n      <td>...</td>\n      <td>5.211451</td>\n      <td>5.216890</td>\n      <td>0.0</td>\n      <td>0.0</td>\n      <td>-0.104256</td>\n      <td>5.240581</td>\n      <td>3.815705</td>\n      <td>4.106454</td>\n      <td>4.343822</td>\n      <td>5.075262</td>\n    </tr>\n    <tr>\n      <th>4</th>\n      <td>10</td>\n      <td>1062</td>\n      <td>5.211451</td>\n      <td>5.216890</td>\n      <td>0</td>\n      <td>0</td>\n      <td>7.092574</td>\n      <td>Beverages</td>\n      <td>Italian</td>\n      <td>TYPE_B</td>\n      <td>...</td>\n      <td>5.217053</td>\n      <td>5.206147</td>\n      <td>0.0</td>\n      <td>0.0</td>\n      <td>0.209480</td>\n      <td>5.264703</td>\n      <td>3.643701</td>\n      <td>4.185200</td>\n      <td>4.315736</td>\n      <td>5.032650</td>\n    </tr>\n    <tr>\n      <th>5</th>\n      <td>10</td>\n      <td>1062</td>\n      <td>5.217053</td>\n      <td>5.206147</td>\n      <td>0</td>\n      <td>0</td>\n      <td>6.865891</td>\n      <td>Beverages</td>\n      <td>Italian</td>\n      <td>TYPE_B</td>\n      <td>...</td>\n      <td>5.094057</td>\n      <td>5.217053</td>\n      <td>0.0</td>\n      <td>0.0</td>\n      <td>-2.357580</td>\n      <td>4.962804</td>\n      <td>3.524451</td>\n      <td>4.154295</td>\n      <td>4.039575</td>\n      <td>4.983015</td>\n    </tr>\n  </tbody>\n</table>\n<p>5 rows × 33 columns</p>\n</div>"
     },
     "execution_count": 19,
     "metadata": {},
     "output_type": "execute_result"
    }
   ],
   "source": [
    "# Seeing weekly trend across the categorical variables\n",
    "\n",
    "# The average of the Category (say Beverages) in the corresponding week (week 1, 2, 3, etc)\n",
    "avg_orders_Cat = merge9.groupby(['week', 'category'])['num_orders'].mean().reset_index().sort_values(['category', 'week']).set_index('week').rename(columns = {'num_orders':\"Avg_orders_cat_week\"})\n",
    "merge9 = pd.merge(merge9, right = avg_orders_Cat, on = ['week', 'category'], how = 'inner', validate = 'many_to_one')\n",
    "merge9.sort_values(['meal_id', 'center_id'], inplace = True)\n",
    "\n",
    "# The average of the Cuisine (say Thai) in the corresponding week (week 1, 2, 3, etc)\n",
    "avg_orders_cui = merge9.groupby(['week', 'cuisine'])['num_orders'].mean().reset_index().sort_values(['cuisine', 'week']).set_index('week').rename(columns = {'num_orders':\"Avg_orders_cuisine_week\"})\n",
    "merge9 = pd.merge(merge9, right = avg_orders_cui, on = ['week', 'cuisine'], how = 'inner', validate = 'many_to_one')\n",
    "merge9.sort_values(['meal_id', 'center_id'], inplace = True)\n",
    "\n",
    "# The average of the city_region (say 590_56) in the corresponding week (week 1, 2, 3, etc)\n",
    "avg_orders_city = merge9.groupby(['week', 'city_region'])['num_orders'].mean().reset_index().sort_values(['city_region', 'week']).set_index('week').rename(columns = {'num_orders':\"Avg_orders_city-region_week\"})\n",
    "merge9 = pd.merge(merge9, right = avg_orders_city, on = ['week', 'city_region'], how = 'inner', validate = 'many_to_one')\n",
    "merge9.sort_values(['meal_id', 'center_id'], inplace = True)\n",
    "\n",
    "# The average of the center_type (say Type_B) in the corresponding week (week 1, 2, 3, etc)\n",
    "avg_orders_centert = merge9.groupby(['week', 'center_type'])['num_orders'].mean().reset_index().sort_values(['center_type', 'week']).set_index('week').rename(columns = {'num_orders':\"Avg_orders_centert_week\"})\n",
    "merge9 = pd.merge(merge9, right = avg_orders_centert, on = ['week', 'center_type'], how = 'inner', validate = 'many_to_one')\n",
    "merge9.sort_values(['meal_id', 'center_id'], inplace = True)\n",
    "\n",
    "# The average of the Op_area (say 6.3) in the corresponding week (week 1, 2, 3, etc)\n",
    "avg_orders_oparea = merge9.groupby(['week', 'op_area'])['num_orders'].mean().reset_index().sort_values(['op_area', 'week']).set_index('week').rename(columns = {'num_orders':\"Avg_orders_oparea_week\"})\n",
    "merge9 = pd.merge(merge9, right = avg_orders_oparea, on = ['week', 'op_area'], how = 'inner', validate = 'many_to_one')\n",
    "merge9.sort_values(['meal_id', 'center_id'], inplace = True)\n",
    "merge9.head()"
   ],
   "metadata": {
    "collapsed": false,
    "ExecuteTime": {
     "end_time": "2024-01-28T14:53:40.711184600Z",
     "start_time": "2024-01-28T14:53:39.811228700Z"
    }
   },
   "id": "25abdcd42ec7eb44",
   "execution_count": 19
  },
  {
   "cell_type": "code",
   "outputs": [
    {
     "data": {
      "text/plain": "      center_id  meal_id  checkout_price  base_price  emailer_for_promotion  \\\nweek                                                                          \n1            10     1062        5.206147    5.206147                      0   \n2            10     1062        5.216890    5.211451                      0   \n3            10     1062        5.222300    5.211451                      0   \n4            10     1062        5.211451    5.216890                      0   \n5            10     1062        5.217053    5.206147                      0   \n\n      homepage_featured  num_orders   category  cuisine center_type  ...  \\\nweek                                                                 ...   \n1                     0    6.763885  Beverages  Italian      TYPE_B  ...   \n2                     0    6.663133  Beverages  Italian      TYPE_B  ...   \n3                     0    6.747587  Beverages  Italian      TYPE_B  ...   \n4                     0    7.092574  Beverages  Italian      TYPE_B  ...   \n5                     0    6.865891  Beverages  Italian      TYPE_B  ...   \n\n      checkout_price/avg_checkout price for per week per category_lag_2  \\\nweek                                                                      \n1                                                   NaN                   \n2                                                   NaN                   \n3                                              0.977655                   \n4                                              1.005516                   \n5                                              1.006351                   \n\n      checkout_price/avg_checkout price for per week per cuisine_lag_2  \\\nweek                                                                     \n1                                                   NaN                  \n2                                                   NaN                  \n3                                              0.929371                  \n4                                              0.929924                  \n5                                              0.928829                  \n\n      checkout_price/avg_checkout price for per week per meal_id_lag_2  \\\nweek                                                                     \n1                                                   NaN                  \n2                                                   NaN                  \n3                                              1.005751                  \n4                                              1.002815                  \n5                                              1.004089                  \n\n      city_region_lag_2  Avg_orders_cat_week_lag_2  \\\nweek                                                 \n1                   NaN                        NaN   \n2                   NaN                        NaN   \n3                590_56                   5.147244   \n4                590_56                   5.431697   \n5                590_56                   5.240581   \n\n      Avg_orders_cuisine_week_lag_2 Avg_orders_city-region_week_lag_2  \\\nweek                                                                    \n1                               NaN                               NaN   \n2                               NaN                               NaN   \n3                          3.890065                          4.181823   \n4                          3.799367                          4.158634   \n5                          3.815705                          4.106454   \n\n      Avg_orders_centert_week_lag_2  Avg_orders_oparea_week_lag_2  week  \nweek                                                                     \n1                               NaN                           NaN     1  \n2                               NaN                           NaN     2  \n3                          4.419917                      5.160021     3  \n4                          4.414651                      5.076043     4  \n5                          4.343822                      5.075262     5  \n\n[5 rows x 64 columns]",
      "text/html": "<div>\n<style scoped>\n    .dataframe tbody tr th:only-of-type {\n        vertical-align: middle;\n    }\n\n    .dataframe tbody tr th {\n        vertical-align: top;\n    }\n\n    .dataframe thead th {\n        text-align: right;\n    }\n</style>\n<table border=\"1\" class=\"dataframe\">\n  <thead>\n    <tr style=\"text-align: right;\">\n      <th></th>\n      <th>center_id</th>\n      <th>meal_id</th>\n      <th>checkout_price</th>\n      <th>base_price</th>\n      <th>emailer_for_promotion</th>\n      <th>homepage_featured</th>\n      <th>num_orders</th>\n      <th>category</th>\n      <th>cuisine</th>\n      <th>center_type</th>\n      <th>...</th>\n      <th>checkout_price/avg_checkout price for per week per category_lag_2</th>\n      <th>checkout_price/avg_checkout price for per week per cuisine_lag_2</th>\n      <th>checkout_price/avg_checkout price for per week per meal_id_lag_2</th>\n      <th>city_region_lag_2</th>\n      <th>Avg_orders_cat_week_lag_2</th>\n      <th>Avg_orders_cuisine_week_lag_2</th>\n      <th>Avg_orders_city-region_week_lag_2</th>\n      <th>Avg_orders_centert_week_lag_2</th>\n      <th>Avg_orders_oparea_week_lag_2</th>\n      <th>week</th>\n    </tr>\n    <tr>\n      <th>week</th>\n      <th></th>\n      <th></th>\n      <th></th>\n      <th></th>\n      <th></th>\n      <th></th>\n      <th></th>\n      <th></th>\n      <th></th>\n      <th></th>\n      <th></th>\n      <th></th>\n      <th></th>\n      <th></th>\n      <th></th>\n      <th></th>\n      <th></th>\n      <th></th>\n      <th></th>\n      <th></th>\n      <th></th>\n    </tr>\n  </thead>\n  <tbody>\n    <tr>\n      <th>1</th>\n      <td>10</td>\n      <td>1062</td>\n      <td>5.206147</td>\n      <td>5.206147</td>\n      <td>0</td>\n      <td>0</td>\n      <td>6.763885</td>\n      <td>Beverages</td>\n      <td>Italian</td>\n      <td>TYPE_B</td>\n      <td>...</td>\n      <td>NaN</td>\n      <td>NaN</td>\n      <td>NaN</td>\n      <td>NaN</td>\n      <td>NaN</td>\n      <td>NaN</td>\n      <td>NaN</td>\n      <td>NaN</td>\n      <td>NaN</td>\n      <td>1</td>\n    </tr>\n    <tr>\n      <th>2</th>\n      <td>10</td>\n      <td>1062</td>\n      <td>5.216890</td>\n      <td>5.211451</td>\n      <td>0</td>\n      <td>0</td>\n      <td>6.663133</td>\n      <td>Beverages</td>\n      <td>Italian</td>\n      <td>TYPE_B</td>\n      <td>...</td>\n      <td>NaN</td>\n      <td>NaN</td>\n      <td>NaN</td>\n      <td>NaN</td>\n      <td>NaN</td>\n      <td>NaN</td>\n      <td>NaN</td>\n      <td>NaN</td>\n      <td>NaN</td>\n      <td>2</td>\n    </tr>\n    <tr>\n      <th>3</th>\n      <td>10</td>\n      <td>1062</td>\n      <td>5.222300</td>\n      <td>5.211451</td>\n      <td>0</td>\n      <td>0</td>\n      <td>6.747587</td>\n      <td>Beverages</td>\n      <td>Italian</td>\n      <td>TYPE_B</td>\n      <td>...</td>\n      <td>0.977655</td>\n      <td>0.929371</td>\n      <td>1.005751</td>\n      <td>590_56</td>\n      <td>5.147244</td>\n      <td>3.890065</td>\n      <td>4.181823</td>\n      <td>4.419917</td>\n      <td>5.160021</td>\n      <td>3</td>\n    </tr>\n    <tr>\n      <th>4</th>\n      <td>10</td>\n      <td>1062</td>\n      <td>5.211451</td>\n      <td>5.216890</td>\n      <td>0</td>\n      <td>0</td>\n      <td>7.092574</td>\n      <td>Beverages</td>\n      <td>Italian</td>\n      <td>TYPE_B</td>\n      <td>...</td>\n      <td>1.005516</td>\n      <td>0.929924</td>\n      <td>1.002815</td>\n      <td>590_56</td>\n      <td>5.431697</td>\n      <td>3.799367</td>\n      <td>4.158634</td>\n      <td>4.414651</td>\n      <td>5.076043</td>\n      <td>4</td>\n    </tr>\n    <tr>\n      <th>5</th>\n      <td>10</td>\n      <td>1062</td>\n      <td>5.217053</td>\n      <td>5.206147</td>\n      <td>0</td>\n      <td>0</td>\n      <td>6.865891</td>\n      <td>Beverages</td>\n      <td>Italian</td>\n      <td>TYPE_B</td>\n      <td>...</td>\n      <td>1.006351</td>\n      <td>0.928829</td>\n      <td>1.004089</td>\n      <td>590_56</td>\n      <td>5.240581</td>\n      <td>3.815705</td>\n      <td>4.106454</td>\n      <td>4.343822</td>\n      <td>5.075262</td>\n      <td>5</td>\n    </tr>\n  </tbody>\n</table>\n<p>5 rows × 64 columns</p>\n</div>"
     },
     "execution_count": 20,
     "metadata": {},
     "output_type": "execute_result"
    }
   ],
   "source": [
    "# Lagging the columns to get a sense of the previous weeks, from the auto-correlation plots we saw that a lag of 2 weeks is significant\n",
    "# Also we are interested in predicting the demand for the next week, so intuitevly it can be thought that we will look at features from atleast one week prior\n",
    "\n",
    "cols_to_lag = [x for x in merge9.columns.tolist() if x not in ['center_id', 'meal_id', 'emailer_for_promotion', 'expanding_min', 'expanding_max', 'expanding_mean', 'target_lead',\n",
    "                                                                 \"weighted_average_2w\", \"weighted_average_3w\", \"category\", \"cuisine\", \"city_code\", \"region_code\", \"center_type\", \"op_area\",\n",
    "                                                                 \"checkout_price_lead1\", \"base_price_lead1\", \"emailer_for_promotion_lead1\", \"homepage_featured_lead1\", \"perc_diff_lead1\"]]\n",
    "for col in cols_to_lag:\n",
    "    merge9[col + '_lag_1'] = merge9.groupby([ 'meal_id', 'center_id'])[col].shift(1)\n",
    "\n",
    "for col in cols_to_lag:\n",
    "    merge9[col + '_lag_2'] = merge9.groupby([ 'meal_id', 'center_id'])[col].shift(2)\n",
    "\n",
    "# Creating the week column again from the index \n",
    "merge9['week'] = merge9.index\n",
    "merge9.head()"
   ],
   "metadata": {
    "collapsed": false,
    "ExecuteTime": {
     "end_time": "2024-01-28T14:53:41.112584400Z",
     "start_time": "2024-01-28T14:53:40.691311600Z"
    }
   },
   "id": "d4dea60bc01dd044",
   "execution_count": 20
  },
  {
   "cell_type": "code",
   "outputs": [
    {
     "data": {
      "text/plain": "      meal_id  center_id   category  checkout_price  num_orders  \\\nweek                                                              \n1        1062         10  Beverages        5.206147    6.763885   \n2        1062         10  Beverages        5.216890    6.663133   \n3        1062         10  Beverages        5.222300    6.747587   \n4        1062         10  Beverages        5.211451    7.092574   \n5        1062         10  Beverages        5.217053    6.865891   \n...       ...        ...        ...             ...         ...   \n141      2956        186       Fish        6.377090    0.000000   \n142      2956        186       Fish        6.377090    0.000000   \n143      2956        186       Fish        6.377090    0.000000   \n144      2956        186       Fish        6.377090    0.000000   \n145      2956        186       Fish        6.377090    0.000000   \n\n      price/avg_price_week_category  Avg_orders_cat_week  \nweek                                                      \n1                          0.977655             5.147244  \n2                          1.005516             5.431697  \n3                          1.006351             5.240581  \n4                          0.999393             5.264703  \n5                          0.994085             4.962804  \n...                             ...                  ...  \n141                        1.001386             3.522170  \n142                        1.001919             3.429422  \n143                        1.001479             3.570259  \n144                        1.001320             3.618459  \n145                        0.996550             3.335851  \n\n[521565 rows x 7 columns]",
      "text/html": "<div>\n<style scoped>\n    .dataframe tbody tr th:only-of-type {\n        vertical-align: middle;\n    }\n\n    .dataframe tbody tr th {\n        vertical-align: top;\n    }\n\n    .dataframe thead th {\n        text-align: right;\n    }\n</style>\n<table border=\"1\" class=\"dataframe\">\n  <thead>\n    <tr style=\"text-align: right;\">\n      <th></th>\n      <th>meal_id</th>\n      <th>center_id</th>\n      <th>category</th>\n      <th>checkout_price</th>\n      <th>num_orders</th>\n      <th>price/avg_price_week_category</th>\n      <th>Avg_orders_cat_week</th>\n    </tr>\n    <tr>\n      <th>week</th>\n      <th></th>\n      <th></th>\n      <th></th>\n      <th></th>\n      <th></th>\n      <th></th>\n      <th></th>\n    </tr>\n  </thead>\n  <tbody>\n    <tr>\n      <th>1</th>\n      <td>1062</td>\n      <td>10</td>\n      <td>Beverages</td>\n      <td>5.206147</td>\n      <td>6.763885</td>\n      <td>0.977655</td>\n      <td>5.147244</td>\n    </tr>\n    <tr>\n      <th>2</th>\n      <td>1062</td>\n      <td>10</td>\n      <td>Beverages</td>\n      <td>5.216890</td>\n      <td>6.663133</td>\n      <td>1.005516</td>\n      <td>5.431697</td>\n    </tr>\n    <tr>\n      <th>3</th>\n      <td>1062</td>\n      <td>10</td>\n      <td>Beverages</td>\n      <td>5.222300</td>\n      <td>6.747587</td>\n      <td>1.006351</td>\n      <td>5.240581</td>\n    </tr>\n    <tr>\n      <th>4</th>\n      <td>1062</td>\n      <td>10</td>\n      <td>Beverages</td>\n      <td>5.211451</td>\n      <td>7.092574</td>\n      <td>0.999393</td>\n      <td>5.264703</td>\n    </tr>\n    <tr>\n      <th>5</th>\n      <td>1062</td>\n      <td>10</td>\n      <td>Beverages</td>\n      <td>5.217053</td>\n      <td>6.865891</td>\n      <td>0.994085</td>\n      <td>4.962804</td>\n    </tr>\n    <tr>\n      <th>...</th>\n      <td>...</td>\n      <td>...</td>\n      <td>...</td>\n      <td>...</td>\n      <td>...</td>\n      <td>...</td>\n      <td>...</td>\n    </tr>\n    <tr>\n      <th>141</th>\n      <td>2956</td>\n      <td>186</td>\n      <td>Fish</td>\n      <td>6.377090</td>\n      <td>0.000000</td>\n      <td>1.001386</td>\n      <td>3.522170</td>\n    </tr>\n    <tr>\n      <th>142</th>\n      <td>2956</td>\n      <td>186</td>\n      <td>Fish</td>\n      <td>6.377090</td>\n      <td>0.000000</td>\n      <td>1.001919</td>\n      <td>3.429422</td>\n    </tr>\n    <tr>\n      <th>143</th>\n      <td>2956</td>\n      <td>186</td>\n      <td>Fish</td>\n      <td>6.377090</td>\n      <td>0.000000</td>\n      <td>1.001479</td>\n      <td>3.570259</td>\n    </tr>\n    <tr>\n      <th>144</th>\n      <td>2956</td>\n      <td>186</td>\n      <td>Fish</td>\n      <td>6.377090</td>\n      <td>0.000000</td>\n      <td>1.001320</td>\n      <td>3.618459</td>\n    </tr>\n    <tr>\n      <th>145</th>\n      <td>2956</td>\n      <td>186</td>\n      <td>Fish</td>\n      <td>6.377090</td>\n      <td>0.000000</td>\n      <td>0.996550</td>\n      <td>3.335851</td>\n    </tr>\n  </tbody>\n</table>\n<p>521565 rows × 7 columns</p>\n</div>"
     },
     "execution_count": 21,
     "metadata": {},
     "output_type": "execute_result"
    }
   ],
   "source": [
    "merge9[['meal_id', 'center_id','category', 'checkout_price', 'num_orders',\n",
    "       'checkout_price/avg_checkout price for per week per category', 'Avg_orders_cat_week']].rename(columns = {'checkout_price/avg_checkout price for per week per category': \n",
    "                                                                                         'price/avg_price_week_category'})"
   ],
   "metadata": {
    "collapsed": false,
    "ExecuteTime": {
     "end_time": "2024-01-28T14:53:41.128964800Z",
     "start_time": "2024-01-28T14:53:41.101966100Z"
    }
   },
   "id": "e266e5fbf2abe76c",
   "execution_count": 21
  },
  {
   "cell_type": "code",
   "outputs": [
    {
     "data": {
      "text/plain": "      meal_id  center_id  num_orders  expanding_mean  weighted_average_2w  \\\nweek                                                                        \n1        1062         10    6.763885        6.763885                  NaN   \n2        1062         10    6.663133        6.713509             6.696717   \n3        1062         10    6.747587        6.724868             6.719435   \n4        1062         10    7.092574        6.816794             6.977578   \n5        1062         10    6.865891        6.826614             6.941452   \n\n      weighted_average_3w  \nweek                       \n1                     NaN  \n2                     NaN  \n3                6.722152  \n4                6.906004  \n5                6.921735  ",
      "text/html": "<div>\n<style scoped>\n    .dataframe tbody tr th:only-of-type {\n        vertical-align: middle;\n    }\n\n    .dataframe tbody tr th {\n        vertical-align: top;\n    }\n\n    .dataframe thead th {\n        text-align: right;\n    }\n</style>\n<table border=\"1\" class=\"dataframe\">\n  <thead>\n    <tr style=\"text-align: right;\">\n      <th></th>\n      <th>meal_id</th>\n      <th>center_id</th>\n      <th>num_orders</th>\n      <th>expanding_mean</th>\n      <th>weighted_average_2w</th>\n      <th>weighted_average_3w</th>\n    </tr>\n    <tr>\n      <th>week</th>\n      <th></th>\n      <th></th>\n      <th></th>\n      <th></th>\n      <th></th>\n      <th></th>\n    </tr>\n  </thead>\n  <tbody>\n    <tr>\n      <th>1</th>\n      <td>1062</td>\n      <td>10</td>\n      <td>6.763885</td>\n      <td>6.763885</td>\n      <td>NaN</td>\n      <td>NaN</td>\n    </tr>\n    <tr>\n      <th>2</th>\n      <td>1062</td>\n      <td>10</td>\n      <td>6.663133</td>\n      <td>6.713509</td>\n      <td>6.696717</td>\n      <td>NaN</td>\n    </tr>\n    <tr>\n      <th>3</th>\n      <td>1062</td>\n      <td>10</td>\n      <td>6.747587</td>\n      <td>6.724868</td>\n      <td>6.719435</td>\n      <td>6.722152</td>\n    </tr>\n    <tr>\n      <th>4</th>\n      <td>1062</td>\n      <td>10</td>\n      <td>7.092574</td>\n      <td>6.816794</td>\n      <td>6.977578</td>\n      <td>6.906004</td>\n    </tr>\n    <tr>\n      <th>5</th>\n      <td>1062</td>\n      <td>10</td>\n      <td>6.865891</td>\n      <td>6.826614</td>\n      <td>6.941452</td>\n      <td>6.921735</td>\n    </tr>\n  </tbody>\n</table>\n</div>"
     },
     "execution_count": 22,
     "metadata": {},
     "output_type": "execute_result"
    }
   ],
   "source": [
    "merge9[['meal_id', 'center_id', 'num_orders', 'expanding_mean', 'weighted_average_2w', 'weighted_average_3w']].head()"
   ],
   "metadata": {
    "collapsed": false,
    "ExecuteTime": {
     "end_time": "2024-01-28T14:53:41.160736700Z",
     "start_time": "2024-01-28T14:53:41.122363600Z"
    }
   },
   "id": "5c501ba9181b7181",
   "execution_count": 22
  },
  {
   "cell_type": "code",
   "outputs": [
    {
     "data": {
      "text/plain": "      meal_id  center_id  perc_diff  num_orders_lag_1  perc_diff_lead1  \\\nweek                                                                     \n1        1062         10   0.000000               NaN         0.104365   \n2        1062         10   0.104365          6.763885         0.208166   \n3        1062         10   0.208166          6.663133        -0.104256   \n4        1062         10  -0.104256          6.747587         0.209480   \n5        1062         10   0.209480          7.092574        -2.357580   \n\n      target_lead  \nweek               \n1        6.663133  \n2        6.747587  \n3        7.092574  \n4        6.865891  \n5        6.998510  ",
      "text/html": "<div>\n<style scoped>\n    .dataframe tbody tr th:only-of-type {\n        vertical-align: middle;\n    }\n\n    .dataframe tbody tr th {\n        vertical-align: top;\n    }\n\n    .dataframe thead th {\n        text-align: right;\n    }\n</style>\n<table border=\"1\" class=\"dataframe\">\n  <thead>\n    <tr style=\"text-align: right;\">\n      <th></th>\n      <th>meal_id</th>\n      <th>center_id</th>\n      <th>perc_diff</th>\n      <th>num_orders_lag_1</th>\n      <th>perc_diff_lead1</th>\n      <th>target_lead</th>\n    </tr>\n    <tr>\n      <th>week</th>\n      <th></th>\n      <th></th>\n      <th></th>\n      <th></th>\n      <th></th>\n      <th></th>\n    </tr>\n  </thead>\n  <tbody>\n    <tr>\n      <th>1</th>\n      <td>1062</td>\n      <td>10</td>\n      <td>0.000000</td>\n      <td>NaN</td>\n      <td>0.104365</td>\n      <td>6.663133</td>\n    </tr>\n    <tr>\n      <th>2</th>\n      <td>1062</td>\n      <td>10</td>\n      <td>0.104365</td>\n      <td>6.763885</td>\n      <td>0.208166</td>\n      <td>6.747587</td>\n    </tr>\n    <tr>\n      <th>3</th>\n      <td>1062</td>\n      <td>10</td>\n      <td>0.208166</td>\n      <td>6.663133</td>\n      <td>-0.104256</td>\n      <td>7.092574</td>\n    </tr>\n    <tr>\n      <th>4</th>\n      <td>1062</td>\n      <td>10</td>\n      <td>-0.104256</td>\n      <td>6.747587</td>\n      <td>0.209480</td>\n      <td>6.865891</td>\n    </tr>\n    <tr>\n      <th>5</th>\n      <td>1062</td>\n      <td>10</td>\n      <td>0.209480</td>\n      <td>7.092574</td>\n      <td>-2.357580</td>\n      <td>6.998510</td>\n    </tr>\n  </tbody>\n</table>\n</div>"
     },
     "execution_count": 23,
     "metadata": {},
     "output_type": "execute_result"
    }
   ],
   "source": [
    "merge9[['meal_id', 'center_id', 'perc_diff', 'num_orders_lag_1', 'perc_diff_lead1', 'target_lead']].head()"
   ],
   "metadata": {
    "collapsed": false,
    "ExecuteTime": {
     "end_time": "2024-01-28T14:53:41.226182300Z",
     "start_time": "2024-01-28T14:53:41.129972300Z"
    }
   },
   "id": "6d9a634a56abda76",
   "execution_count": 23
  },
  {
   "cell_type": "markdown",
   "source": [
    "<h1> Modelling </h1>"
   ],
   "metadata": {
    "collapsed": false
   },
   "id": "7da6a12bd9548561"
  },
  {
   "cell_type": "code",
   "outputs": [],
   "source": [
    "# Creating a copy of the data for modelling\n",
    "mod_data = merge9.copy(deep = True)\n",
    "\n",
    "# Dropping the NaN rows which would be there in the data due to the lags\n",
    "mod_data.dropna(axis = 0, inplace = True)\n",
    "\n",
    "# Making week back into a column \n",
    "mod_data['week'] = mod_data.index"
   ],
   "metadata": {
    "collapsed": false,
    "ExecuteTime": {
     "end_time": "2024-01-28T14:53:41.507664Z",
     "start_time": "2024-01-28T14:53:41.137573Z"
    }
   },
   "id": "3365e81e4dd02aae",
   "execution_count": 24
  },
  {
   "cell_type": "code",
   "outputs": [],
   "source": [
    "# Creating dummy variables for categorical columns \n",
    "cat_cols = ['category', 'cuisine', 'city_region', 'center_type']\n",
    "for column in cat_cols:\n",
    "    mod_data = pd.concat([mod_data.drop(column, axis=1), pd.get_dummies(mod_data[column])], axis=1)"
   ],
   "metadata": {
    "collapsed": false,
    "ExecuteTime": {
     "end_time": "2024-01-28T14:53:41.902125200Z",
     "start_time": "2024-01-28T14:53:41.424351600Z"
    }
   },
   "id": "bc8a00c24ac17d9f",
   "execution_count": 25
  },
  {
   "cell_type": "code",
   "outputs": [],
   "source": [
    "# Features and Label lists\n",
    "id_cols =['center_id' ,'meal_id']\n",
    "label = ['target_lead']\n",
    "not_features = id_cols + label\n",
    "features = [cols for cols in mod_data.columns if cols not in not_features]"
   ],
   "metadata": {
    "collapsed": false,
    "ExecuteTime": {
     "end_time": "2024-01-28T14:53:41.902125200Z",
     "start_time": "2024-01-28T14:53:41.895954900Z"
    }
   },
   "id": "a324cad98dff3d0b",
   "execution_count": 26
  },
  {
   "cell_type": "code",
   "outputs": [],
   "source": [
    "# Splitting the data into train, validation, test and train_validation sets\n",
    "\n",
    "# Training set from week 3 to 143\n",
    "train_data = mod_data[mod_data['week'] < 143]\n",
    "x_train = train_data[features]\n",
    "y_train = train_data[label]\n",
    "\n",
    "# Validation set of week 143 predicting demand for week 144\n",
    "val_data = mod_data[mod_data['week'] == 143]\n",
    "x_val = val_data[features]\n",
    "y_val = val_data[label]\n",
    "\n",
    "# Test set of week 144, predicting demand for week 145\n",
    "test_data = mod_data[mod_data['week'] == 144]\n",
    "x_test = test_data[features]\n",
    "y_test = test_data[label]\n",
    "\n",
    "# Train + validation set\n",
    "train_val_data = mod_data[mod_data['week'] < 144]\n",
    "x_train_val = train_val_data[features]\n",
    "y_train_val = train_val_data[label]"
   ],
   "metadata": {
    "collapsed": false,
    "ExecuteTime": {
     "end_time": "2024-01-28T14:53:42.146204300Z",
     "start_time": "2024-01-28T14:53:41.898674200Z"
    }
   },
   "id": "9f32489203445940",
   "execution_count": 27
  },
  {
   "cell_type": "markdown",
   "source": [
    "<h1> Regression </h1>"
   ],
   "metadata": {
    "collapsed": false
   },
   "id": "67de5e700acd7ac8"
  },
  {
   "cell_type": "code",
   "outputs": [],
   "source": [
    "# Scaling the data before regression using Standard Scaler \n",
    "\n",
    "from sklearn.preprocessing import StandardScaler\n",
    "cols_not_scale = ['center_id', 'meal_id']\n",
    "cols_scale = [cols for cols in train_data.columns if cols not in cols_not_scale]\n",
    "\n",
    "# Creating the scaler to use for scaling \n",
    "scaler = StandardScaler().fit(train_data[cols_scale])\n",
    "\n",
    "train_data[cols_scale] = scaler.transform(train_data[cols_scale])\n",
    "\n",
    "# Scaling val_data with the scaler fit on train data; this ensures we use the mean and std dev of train data\n",
    "val_data[cols_scale] = scaler.transform(val_data[cols_scale])\n",
    "\n",
    "x_train_reg = train_data[features]\n",
    "y_train_reg = train_data[label]\n",
    "\n",
    "x_val_reg = val_data[features]\n",
    "y_val_reg = val_data[label]"
   ],
   "metadata": {
    "collapsed": false,
    "ExecuteTime": {
     "end_time": "2024-01-28T14:53:47.368896Z",
     "start_time": "2024-01-28T14:53:42.135872600Z"
    }
   },
   "id": "876de19384ff1889",
   "execution_count": 28
  },
  {
   "cell_type": "code",
   "outputs": [
    {
     "name": "stdout",
     "output_type": "stream",
     "text": [
      "The mean squared error with Linear regression on the validation set is: 0.20212050136628784\n",
      "The R squared of LR on the train set is:  0.7760485286391772\n",
      "The R squared of LR on the validation set is:  0.7413087244074328\n"
     ]
    }
   ],
   "source": [
    "from sklearn.linear_model import Lasso\n",
    "from sklearn.linear_model import LinearRegression\n",
    "from sklearn.metrics import mean_squared_error\n",
    "\n",
    "lr = LinearRegression()\n",
    "lr.fit(x_train_reg, y_train_reg)\n",
    "lr_train_score = lr.score(x_train_reg, y_train_reg)\n",
    "lr_val_score = lr.score(x_val_reg, y_val_reg)\n",
    "lr_mse = mean_squared_error(y_val_reg, lr.predict(x_val_reg))\n",
    "\n",
    "print(f\"The mean squared error with Linear regression on the validation set is: {lr_mse}\")\n",
    "print(f\"The R squared of LR on the train set is:  {lr_train_score}\")\n",
    "print(f\"The R squared of LR on the validation set is:  {lr_val_score}\")"
   ],
   "metadata": {
    "collapsed": false,
    "ExecuteTime": {
     "end_time": "2024-01-28T14:53:59.619504Z",
     "start_time": "2024-01-28T14:53:47.371516400Z"
    }
   },
   "id": "1f5f07ea4104b2c8",
   "execution_count": 29
  },
  {
   "cell_type": "markdown",
   "source": [
    "<h1> Lasso </h1>"
   ],
   "metadata": {
    "collapsed": false
   },
   "id": "d02e3d1c4124d7f4"
  },
  {
   "cell_type": "code",
   "outputs": [
    {
     "name": "stdout",
     "output_type": "stream",
     "text": [
      "The mean squared error with Lasso regression on the validation set is: 0.7934055853605864\n",
      "The R squared of Lasso Regression on the train set is:  0.0\n",
      "The R squared of Lasso Regression on the validation set is:  -0.015468997710646137\n"
     ]
    }
   ],
   "source": [
    "from sklearn.linear_model import Lasso\n",
    "lasso = Lasso()\n",
    "\n",
    "lasso.fit(x_train_reg,y_train_reg)\n",
    "las_train_score = lasso.score(x_train_reg,y_train_reg)\n",
    "las_val_score = lasso.score(x_val_reg,y_val_reg)\n",
    "las_mse = mean_squared_error(y_val_reg, lasso.predict(x_val_reg))\n",
    "\n",
    "print(f\"The mean squared error with Lasso regression on the validation set is: {las_mse}\")\n",
    "print(f\"The R squared of Lasso Regression on the train set is:  {las_train_score}\")\n",
    "print(f\"The R squared of Lasso Regression on the validation set is:  {las_val_score}\")"
   ],
   "metadata": {
    "collapsed": false,
    "ExecuteTime": {
     "end_time": "2024-01-28T14:54:00.184782600Z",
     "start_time": "2024-01-28T14:53:59.615280800Z"
    }
   },
   "id": "116446f34d29a1b6",
   "execution_count": 30
  },
  {
   "cell_type": "markdown",
   "source": [
    "<h1> Ensemble Models: Random Forest </h1>"
   ],
   "metadata": {
    "collapsed": false
   },
   "id": "780b34bffadcb1e1"
  },
  {
   "cell_type": "code",
   "outputs": [
    {
     "name": "stdout",
     "output_type": "stream",
     "text": [
      "The mean squared error with Random Forest on the validation set is: 0.23941751859029958\n",
      "The R squared of Random Forest on the train set is:  0.991678953237783\n",
      "The R squared of Random Forest on the validation set is:  0.9206632478603738\n"
     ]
    }
   ],
   "source": [
    "from sklearn.ensemble import RandomForestRegressor\n",
    "rf = RandomForestRegressor(n_jobs=(-1))\n",
    "\n",
    "# Using the unscaled features and labels here as RF takes care of it \n",
    "rf.fit(x_train, y_train)\n",
    "rf_train_score = rf.score(x_train, y_train)\n",
    "rf_test_score = rf.score(x_val, y_val)\n",
    "rf_mse = mean_squared_error(y_val, rf.predict(x_val))\n",
    "\n",
    "print(f\"The mean squared error with Random Forest on the validation set is: {rf_mse}\")\n",
    "print(f\"The R squared of Random Forest on the train set is:  {rf_train_score}\")\n",
    "print(f\"The R squared of Random Forest on the validation set is:  {rf_test_score}\")"
   ],
   "metadata": {
    "collapsed": false,
    "ExecuteTime": {
     "end_time": "2024-01-28T14:57:33.590804200Z",
     "start_time": "2024-01-28T14:54:00.184782600Z"
    }
   },
   "id": "18824a5788d473a8",
   "execution_count": 31
  },
  {
   "cell_type": "markdown",
   "source": [
    "<h1> Ensemble Models: Gradient Boosting </h1>"
   ],
   "metadata": {
    "collapsed": false
   },
   "id": "f9d59885d3d2c35"
  },
  {
   "cell_type": "code",
   "outputs": [
    {
     "name": "stdout",
     "output_type": "stream",
     "text": [
      "The mean squared error with Gradient Boosting on the validation set is: 0.3736817484954369\n",
      "The R squared of Gradient Boosting on the train set is:  0.8966606470673392\n",
      "The R squared of Gradient Boosting on the validation set is:  0.876171566583575\n"
     ]
    }
   ],
   "source": [
    "from sklearn.ensemble import GradientBoostingRegressor\n",
    "gbr = GradientBoostingRegressor()\n",
    "\n",
    "gbr.fit(x_train, y_train)\n",
    "gbr_train_score = gbr.score(x_train,y_train)\n",
    "gbr_test_score = gbr.score(x_val,y_val)\n",
    "gbr_mse = mean_squared_error(y_val, gbr.predict(x_val))\n",
    "\n",
    "print(f\"The mean squared error with Gradient Boosting on the validation set is: {gbr_mse}\")\n",
    "print(f\"The R squared of Gradient Boosting on the train set is:  {gbr_train_score}\")\n",
    "print(f\"The R squared of Gradient Boosting on the validation set is:  {gbr_test_score}\")"
   ],
   "metadata": {
    "collapsed": false,
    "ExecuteTime": {
     "end_time": "2024-01-28T15:05:41.576206700Z",
     "start_time": "2024-01-28T14:58:41.112429300Z"
    }
   },
   "id": "42e3ff6f110c7e70",
   "execution_count": 32
  },
  {
   "cell_type": "markdown",
   "source": [
    "<h1> DecisionTreeRegressor </h1>"
   ],
   "metadata": {
    "collapsed": false
   },
   "id": "636900730de5d87a"
  },
  {
   "cell_type": "code",
   "outputs": [
    {
     "name": "stdout",
     "output_type": "stream",
     "text": [
      "The mean squared error with Gradient Boosting on the validation set is: 0.6375667511541632\n",
      "The R squared of Gradient Boosting on the train set is:  1.0\n",
      "The R squared of Gradient Boosting on the validation set is:  0.7887269252199408\n"
     ]
    }
   ],
   "source": [
    "from sklearn.tree import DecisionTreeRegressor\n",
    "dtr = DecisionTreeRegressor()\n",
    "\n",
    "dtr.fit(x_train, y_train)\n",
    "dtr_train_score = dtr.score(x_train,y_train)\n",
    "dtr_test_score = dtr.score(x_val,y_val)\n",
    "dtr_mse = mean_squared_error(y_val, dtr.predict(x_val))\n",
    "\n",
    "print(f\"The mean squared error with Gradient Boosting on the validation set is: {dtr_mse}\")\n",
    "print(f\"The R squared of Gradient Boosting on the train set is:  {dtr_train_score}\")\n",
    "print(f\"The R squared of Gradient Boosting on the validation set is:  {dtr_test_score}\")"
   ],
   "metadata": {
    "collapsed": false,
    "ExecuteTime": {
     "end_time": "2024-01-28T15:17:38.867493500Z",
     "start_time": "2024-01-28T15:17:03.339832Z"
    }
   },
   "id": "cb8a2b3caa7e45e7",
   "execution_count": 33
  },
  {
   "cell_type": "markdown",
   "source": [
    "<h1> Analysis </h1>"
   ],
   "metadata": {
    "collapsed": false
   },
   "id": "2c4687f0293d21f1"
  },
  {
   "cell_type": "code",
   "outputs": [],
   "source": [
    "import matplotlib.pyplot as plt\n",
    "import seaborn as sns\n",
    "%matplotlib inline"
   ],
   "metadata": {
    "collapsed": false,
    "ExecuteTime": {
     "end_time": "2024-02-01T14:43:57.347676400Z",
     "start_time": "2024-02-01T14:43:57.336954Z"
    }
   },
   "id": "a9078a57e5367b8f",
   "execution_count": 1
  },
  {
   "cell_type": "code",
   "outputs": [],
   "source": [
    "methods = ['Regression', 'Lasso', 'Random Forest', 'Gradient Boosting', 'Decision Tree']\n",
    "resultsMSE = [0.20212050136628784, 0.7934055853605864, 0.23941751859029958, 0.3736817484954369, 0.6375667511541632]\n",
    "resultsR2 = [0.7760485286391772, 0.015468997710646137, 0.991678953237783, 0.876171566583575, 0.7887269252199408]"
   ],
   "metadata": {
    "collapsed": false,
    "ExecuteTime": {
     "end_time": "2024-02-01T14:48:25.775541500Z",
     "start_time": "2024-02-01T14:48:25.770011200Z"
    }
   },
   "id": "b71159f192646f2e",
   "execution_count": 7
  },
  {
   "cell_type": "code",
   "outputs": [
    {
     "data": {
      "text/plain": "<Figure size 1000x600 with 1 Axes>",
      "image/png": "[encoded data removed]"
     },
     "metadata": {},
     "output_type": "display_data"
    }
   ],
   "source": [
    "methods = np.array(methods)\n",
    "results = np.array(resultsMSE)\n",
    "\n",
    "# Get the indices that would sort the results array, and use them to sort both arrays\n",
    "sort_indices = np.argsort(results)\n",
    "sorted_methods = methods[sort_indices]\n",
    "sorted_results = results[sort_indices]\n",
    "\n",
    "plt.figure(figsize=(10, 6))\n",
    "sns.barplot(x=sorted_methods, y=sorted_results, palette='hls')\n",
    "plt.title('Results by Method')\n",
    "plt.show()"
   ],
   "metadata": {
    "collapsed": false,
    "ExecuteTime": {
     "end_time": "2024-02-01T14:48:27.101925700Z",
     "start_time": "2024-02-01T14:48:27.020188600Z"
    }
   },
   "id": "211c8e05b419e595",
   "execution_count": 8
  },
  {
   "cell_type": "code",
   "outputs": [
    {
     "data": {
      "text/plain": "<Figure size 1000x600 with 1 Axes>",
      "image/png": "[encoded data removed]"
     },
     "metadata": {},
     "output_type": "display_data"
    }
   ],
   "source": [
    "methods = np.array(methods)\n",
    "results = np.array(resultsR2)\n",
    "\n",
    "# Get the indices that would sort the results array, and use them to sort both arrays\n",
    "sort_indices = np.argsort(results)[::-1]\n",
    "sorted_methods = methods[sort_indices]\n",
    "sorted_results = results[sort_indices]\n",
    "\n",
    "plt.figure(figsize=(10, 6))\n",
    "sns.barplot(x=sorted_methods, y=sorted_results, palette='hls')\n",
    "plt.title('Results by Method')\n",
    "plt.show()"
   ],
   "metadata": {
    "collapsed": false,
    "ExecuteTime": {
     "end_time": "2024-02-01T14:51:01.766107Z",
     "start_time": "2024-02-01T14:51:01.688779700Z"
    }
   },
   "id": "1447e962f6e5b90d",
   "execution_count": 10
  }
 ],
 "metadata": {
  "kernelspec": {
   "display_name": "Python 3",
   "language": "python",
   "name": "python3"
  },
  "language_info": {
   "codemirror_mode": {
    "name": "ipython",
    "version": 2
   },
   "file_extension": ".py",
   "mimetype": "text/x-python",
   "name": "python",
   "nbconvert_exporter": "python",
   "pygments_lexer": "ipython2",
   "version": "2.7.6"
  }
 },
 "nbformat": 4,
 "nbformat_minor": 5
}
